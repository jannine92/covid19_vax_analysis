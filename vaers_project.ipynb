{
 "cells": [
  {
   "cell_type": "markdown",
   "metadata": {},
   "source": [
    "# Data Science Project: Analyze COVID-19 vaccination data"
   ]
  },
  {
   "cell_type": "markdown",
   "metadata": {},
   "source": [
    "Data Source: https://www.kaggle.com/ayushggarg/covid19-vaccine-adverse-reactions?select=2021VAERSSYMPTOMS.csv\n",
    "Data Guide: https://vaers.hhs.gov/docs/VAERSDataUseGuide_November2020.pdf\n",
    "\n",
    "https://www.kaggle.com/nvkex0/covid-19-vaccine-s-adverse-reactions"
   ]
  },
  {
   "cell_type": "markdown",
   "metadata": {},
   "source": [
    "* VAERS: Vaccine Adverse Event Reporting System\n",
    "* dataset created by the Food andd Drug Administration and Centers for Disease Control and Prevention to\n",
    "receive reports about adverse events that may be associated with vaccines\n",
    "* data contains only patients with symptoms, so we don't know the overall number of vaccinated people \n",
    "* 2 forms (VAERS 1, VAERS 2) existing with slightly different fields (description in guide)\n",
    "* data is from 2021, latest date: 01/29/2021"
   ]
  },
  {
   "cell_type": "markdown",
   "metadata": {},
   "source": [
    "## Business Understanding - Questions:\n",
    "* What are the most common side effects?\n",
    "* Do certain allergies or birth defects lead to side effects or death?\n",
    "* What role does age play for side effects?\n",
    "* Is there an interaction between the vaccine and specific side effects?\n",
    "* prediction question?"
   ]
  },
  {
   "cell_type": "markdown",
   "metadata": {},
   "source": [
    "## Data Understanding"
   ]
  },
  {
   "cell_type": "markdown",
   "metadata": {},
   "source": [
    "* data sets: patients data (df_patients), data about their symptoms (df_symptoms) , data about the vaccines (df_vax)\n",
    "* we can identify the patients with \"VAERS_ID\" for all data sets $\\rightarrow$ 2946 patients"
   ]
  },
  {
   "cell_type": "code",
   "execution_count": 1,
   "metadata": {},
   "outputs": [],
   "source": [
    "import numpy as np\n",
    "import pandas as pd\n",
    "import matplotlib.pyplot as plt\n",
    "import seaborn as sns\n",
    "\n",
    "\n",
    "from sklearn.linear_model import LogisticRegression\n",
    "from sklearn.ensemble import RandomForestClassifier, GradientBoostingClassifier\n",
    "from sklearn.model_selection import train_test_split\n",
    "from sklearn.metrics import accuracy_score\n",
    "\n",
    "%matplotlib inline"
   ]
  },
  {
   "cell_type": "code",
   "execution_count": 2,
   "metadata": {},
   "outputs": [],
   "source": [
    "# read in all datasets\n",
    "df_patients = pd.read_csv('./data/2021VAERSDATA.csv', engine='python')\n",
    "df_symptoms = pd.read_csv('./data/2021VAERSSYMPTOMS.csv')\n",
    "df_vax = pd.read_csv('./data/2021VAERSVAX.csv')"
   ]
  },
  {
   "cell_type": "code",
   "execution_count": 3,
   "metadata": {},
   "outputs": [
    {
     "name": "stdout",
     "output_type": "stream",
     "text": [
      "(2946, 35)\n",
      "(4712, 11)\n",
      "(3014, 8)\n"
     ]
    }
   ],
   "source": [
    "print(df_patients.shape)\n",
    "print(df_symptoms.shape)\n",
    "print(df_vax.shape)"
   ]
  },
  {
   "cell_type": "code",
   "execution_count": 4,
   "metadata": {},
   "outputs": [
    {
     "name": "stdout",
     "output_type": "stream",
     "text": [
      "Index(['VAERS_ID', 'RECVDATE', 'STATE', 'AGE_YRS', 'CAGE_YR', 'CAGE_MO', 'SEX',\n",
      "       'RPT_DATE', 'SYMPTOM_TEXT', 'DIED', 'DATEDIED', 'L_THREAT', 'ER_VISIT',\n",
      "       'HOSPITAL', 'HOSPDAYS', 'X_STAY', 'DISABLE', 'RECOVD', 'VAX_DATE',\n",
      "       'ONSET_DATE', 'NUMDAYS', 'LAB_DATA', 'V_ADMINBY', 'V_FUNDBY',\n",
      "       'OTHER_MEDS', 'CUR_ILL', 'HISTORY', 'PRIOR_VAX', 'SPLTTYPE',\n",
      "       'FORM_VERS', 'TODAYS_DATE', 'BIRTH_DEFECT', 'OFC_VISIT', 'ER_ED_VISIT',\n",
      "       'ALLERGIES'],\n",
      "      dtype='object')\n"
     ]
    }
   ],
   "source": [
    "print(df_patients.columns)"
   ]
  },
  {
   "cell_type": "code",
   "execution_count": 5,
   "metadata": {},
   "outputs": [
    {
     "name": "stdout",
     "output_type": "stream",
     "text": [
      "Index(['VAERS_ID', 'SYMPTOM1', 'SYMPTOMVERSION1', 'SYMPTOM2',\n",
      "       'SYMPTOMVERSION2', 'SYMPTOM3', 'SYMPTOMVERSION3', 'SYMPTOM4',\n",
      "       'SYMPTOMVERSION4', 'SYMPTOM5', 'SYMPTOMVERSION5'],\n",
      "      dtype='object')\n"
     ]
    }
   ],
   "source": [
    "print(df_symptoms.columns)"
   ]
  },
  {
   "cell_type": "code",
   "execution_count": 6,
   "metadata": {},
   "outputs": [
    {
     "name": "stdout",
     "output_type": "stream",
     "text": [
      "Index(['VAERS_ID', 'VAX_TYPE', 'VAX_MANU', 'VAX_LOT', 'VAX_DOSE_SERIES',\n",
      "       'VAX_ROUTE', 'VAX_SITE', 'VAX_NAME'],\n",
      "      dtype='object')\n"
     ]
    }
   ],
   "source": [
    "print(df_vax.columns)"
   ]
  },
  {
   "cell_type": "code",
   "execution_count": 7,
   "metadata": {},
   "outputs": [
    {
     "name": "stdout",
     "output_type": "stream",
     "text": [
      "2946\n",
      "2946\n",
      "2946\n"
     ]
    }
   ],
   "source": [
    "# check if all datasets have the same number of patients\n",
    "print(df_patients[\"VAERS_ID\"].nunique())\n",
    "print(df_symptoms[\"VAERS_ID\"].nunique())\n",
    "print(df_vax[\"VAERS_ID\"].nunique())"
   ]
  },
  {
   "cell_type": "code",
   "execution_count": 8,
   "metadata": {
    "scrolled": true
   },
   "outputs": [
    {
     "data": {
      "text/html": [
       "<div>\n",
       "<style scoped>\n",
       "    .dataframe tbody tr th:only-of-type {\n",
       "        vertical-align: middle;\n",
       "    }\n",
       "\n",
       "    .dataframe tbody tr th {\n",
       "        vertical-align: top;\n",
       "    }\n",
       "\n",
       "    .dataframe thead th {\n",
       "        text-align: right;\n",
       "    }\n",
       "</style>\n",
       "<table border=\"1\" class=\"dataframe\">\n",
       "  <thead>\n",
       "    <tr style=\"text-align: right;\">\n",
       "      <th></th>\n",
       "      <th>VAERS_ID</th>\n",
       "      <th>RECVDATE</th>\n",
       "      <th>STATE</th>\n",
       "      <th>AGE_YRS</th>\n",
       "      <th>CAGE_YR</th>\n",
       "      <th>CAGE_MO</th>\n",
       "      <th>SEX</th>\n",
       "      <th>RPT_DATE</th>\n",
       "      <th>SYMPTOM_TEXT</th>\n",
       "      <th>DIED</th>\n",
       "      <th>...</th>\n",
       "      <th>CUR_ILL</th>\n",
       "      <th>HISTORY</th>\n",
       "      <th>PRIOR_VAX</th>\n",
       "      <th>SPLTTYPE</th>\n",
       "      <th>FORM_VERS</th>\n",
       "      <th>TODAYS_DATE</th>\n",
       "      <th>BIRTH_DEFECT</th>\n",
       "      <th>OFC_VISIT</th>\n",
       "      <th>ER_ED_VISIT</th>\n",
       "      <th>ALLERGIES</th>\n",
       "    </tr>\n",
       "  </thead>\n",
       "  <tbody>\n",
       "    <tr>\n",
       "      <th>0</th>\n",
       "      <td>916710</td>\n",
       "      <td>01/01/2021</td>\n",
       "      <td>MO</td>\n",
       "      <td>23.0</td>\n",
       "      <td>23.0</td>\n",
       "      <td>NaN</td>\n",
       "      <td>F</td>\n",
       "      <td>NaN</td>\n",
       "      <td>Acute appendicitis, onset morning of 1/1/2021 ...</td>\n",
       "      <td>NaN</td>\n",
       "      <td>...</td>\n",
       "      <td>NaN</td>\n",
       "      <td>Hypothyroidism</td>\n",
       "      <td>NaN</td>\n",
       "      <td>NaN</td>\n",
       "      <td>2</td>\n",
       "      <td>01/01/2021</td>\n",
       "      <td>NaN</td>\n",
       "      <td>NaN</td>\n",
       "      <td>Y</td>\n",
       "      <td>NKDA</td>\n",
       "    </tr>\n",
       "    <tr>\n",
       "      <th>1</th>\n",
       "      <td>916741</td>\n",
       "      <td>01/01/2021</td>\n",
       "      <td>AR</td>\n",
       "      <td>68.0</td>\n",
       "      <td>68.0</td>\n",
       "      <td>NaN</td>\n",
       "      <td>F</td>\n",
       "      <td>NaN</td>\n",
       "      <td>on dec 22 I felt some myalgias, chills, fatigu...</td>\n",
       "      <td>NaN</td>\n",
       "      <td>...</td>\n",
       "      <td>had surgery R hand for advanced arthritis 11/1...</td>\n",
       "      <td>Rheumatoid arthritis - mostly affecting R wris...</td>\n",
       "      <td>NaN</td>\n",
       "      <td>NaN</td>\n",
       "      <td>2</td>\n",
       "      <td>01/01/2021</td>\n",
       "      <td>NaN</td>\n",
       "      <td>NaN</td>\n",
       "      <td>NaN</td>\n",
       "      <td>bee stings</td>\n",
       "    </tr>\n",
       "    <tr>\n",
       "      <th>2</th>\n",
       "      <td>916742</td>\n",
       "      <td>01/01/2021</td>\n",
       "      <td>MN</td>\n",
       "      <td>29.0</td>\n",
       "      <td>29.0</td>\n",
       "      <td>NaN</td>\n",
       "      <td>F</td>\n",
       "      <td>NaN</td>\n",
       "      <td>Within 15 minutes of receiving the vaccine I b...</td>\n",
       "      <td>NaN</td>\n",
       "      <td>...</td>\n",
       "      <td>None</td>\n",
       "      <td>Sports induced asthma</td>\n",
       "      <td>NaN</td>\n",
       "      <td>NaN</td>\n",
       "      <td>2</td>\n",
       "      <td>01/01/2021</td>\n",
       "      <td>NaN</td>\n",
       "      <td>Y</td>\n",
       "      <td>Y</td>\n",
       "      <td>Amoxicillin, penicillin, oxycodone, roxicodone...</td>\n",
       "    </tr>\n",
       "    <tr>\n",
       "      <th>3</th>\n",
       "      <td>916746</td>\n",
       "      <td>01/01/2021</td>\n",
       "      <td>TX</td>\n",
       "      <td>49.0</td>\n",
       "      <td>49.0</td>\n",
       "      <td>NaN</td>\n",
       "      <td>F</td>\n",
       "      <td>NaN</td>\n",
       "      <td>Anaphylaxis. Immediately experienced shortness...</td>\n",
       "      <td>NaN</td>\n",
       "      <td>...</td>\n",
       "      <td>None</td>\n",
       "      <td>None</td>\n",
       "      <td>NaN</td>\n",
       "      <td>NaN</td>\n",
       "      <td>2</td>\n",
       "      <td>01/01/2021</td>\n",
       "      <td>NaN</td>\n",
       "      <td>NaN</td>\n",
       "      <td>Y</td>\n",
       "      <td>Shellfish, Iodine</td>\n",
       "    </tr>\n",
       "    <tr>\n",
       "      <th>4</th>\n",
       "      <td>916772</td>\n",
       "      <td>01/01/2021</td>\n",
       "      <td>GA</td>\n",
       "      <td>55.0</td>\n",
       "      <td>55.0</td>\n",
       "      <td>NaN</td>\n",
       "      <td>M</td>\n",
       "      <td>NaN</td>\n",
       "      <td>Vaccine on 12/22/2020 and started feeling bad ...</td>\n",
       "      <td>NaN</td>\n",
       "      <td>...</td>\n",
       "      <td>NaN</td>\n",
       "      <td>HTN, Insomnia,High Cholesterol,</td>\n",
       "      <td>NaN</td>\n",
       "      <td>NaN</td>\n",
       "      <td>2</td>\n",
       "      <td>01/01/2021</td>\n",
       "      <td>NaN</td>\n",
       "      <td>Y</td>\n",
       "      <td>NaN</td>\n",
       "      <td>Codeine</td>\n",
       "    </tr>\n",
       "  </tbody>\n",
       "</table>\n",
       "<p>5 rows × 35 columns</p>\n",
       "</div>"
      ],
      "text/plain": [
       "   VAERS_ID    RECVDATE STATE  AGE_YRS  CAGE_YR  CAGE_MO SEX RPT_DATE  \\\n",
       "0    916710  01/01/2021    MO     23.0     23.0      NaN   F      NaN   \n",
       "1    916741  01/01/2021    AR     68.0     68.0      NaN   F      NaN   \n",
       "2    916742  01/01/2021    MN     29.0     29.0      NaN   F      NaN   \n",
       "3    916746  01/01/2021    TX     49.0     49.0      NaN   F      NaN   \n",
       "4    916772  01/01/2021    GA     55.0     55.0      NaN   M      NaN   \n",
       "\n",
       "                                        SYMPTOM_TEXT DIED  ...  \\\n",
       "0  Acute appendicitis, onset morning of 1/1/2021 ...  NaN  ...   \n",
       "1  on dec 22 I felt some myalgias, chills, fatigu...  NaN  ...   \n",
       "2  Within 15 minutes of receiving the vaccine I b...  NaN  ...   \n",
       "3  Anaphylaxis. Immediately experienced shortness...  NaN  ...   \n",
       "4  Vaccine on 12/22/2020 and started feeling bad ...  NaN  ...   \n",
       "\n",
       "                                             CUR_ILL  \\\n",
       "0                                                NaN   \n",
       "1  had surgery R hand for advanced arthritis 11/1...   \n",
       "2                                               None   \n",
       "3                                               None   \n",
       "4                                                NaN   \n",
       "\n",
       "                                             HISTORY  PRIOR_VAX SPLTTYPE  \\\n",
       "0                                     Hypothyroidism        NaN      NaN   \n",
       "1  Rheumatoid arthritis - mostly affecting R wris...        NaN      NaN   \n",
       "2                              Sports induced asthma        NaN      NaN   \n",
       "3                                               None        NaN      NaN   \n",
       "4                    HTN, Insomnia,High Cholesterol,        NaN      NaN   \n",
       "\n",
       "   FORM_VERS TODAYS_DATE BIRTH_DEFECT OFC_VISIT ER_ED_VISIT  \\\n",
       "0          2  01/01/2021          NaN       NaN           Y   \n",
       "1          2  01/01/2021          NaN       NaN         NaN   \n",
       "2          2  01/01/2021          NaN         Y           Y   \n",
       "3          2  01/01/2021          NaN       NaN           Y   \n",
       "4          2  01/01/2021          NaN         Y         NaN   \n",
       "\n",
       "                                           ALLERGIES  \n",
       "0                                               NKDA  \n",
       "1                                         bee stings  \n",
       "2  Amoxicillin, penicillin, oxycodone, roxicodone...  \n",
       "3                                  Shellfish, Iodine  \n",
       "4                                            Codeine  \n",
       "\n",
       "[5 rows x 35 columns]"
      ]
     },
     "execution_count": 8,
     "metadata": {},
     "output_type": "execute_result"
    }
   ],
   "source": [
    "df_patients.head()"
   ]
  },
  {
   "cell_type": "code",
   "execution_count": 9,
   "metadata": {
    "scrolled": true
   },
   "outputs": [
    {
     "data": {
      "text/plain": [
       "VAERS_ID          int64\n",
       "RECVDATE         object\n",
       "STATE            object\n",
       "AGE_YRS         float64\n",
       "CAGE_YR         float64\n",
       "CAGE_MO         float64\n",
       "SEX              object\n",
       "RPT_DATE         object\n",
       "SYMPTOM_TEXT     object\n",
       "DIED             object\n",
       "DATEDIED         object\n",
       "L_THREAT         object\n",
       "ER_VISIT        float64\n",
       "HOSPITAL         object\n",
       "HOSPDAYS        float64\n",
       "X_STAY           object\n",
       "DISABLE          object\n",
       "RECOVD           object\n",
       "VAX_DATE         object\n",
       "ONSET_DATE       object\n",
       "NUMDAYS         float64\n",
       "LAB_DATA         object\n",
       "V_ADMINBY        object\n",
       "V_FUNDBY         object\n",
       "OTHER_MEDS       object\n",
       "CUR_ILL          object\n",
       "HISTORY          object\n",
       "PRIOR_VAX        object\n",
       "SPLTTYPE         object\n",
       "FORM_VERS         int64\n",
       "TODAYS_DATE      object\n",
       "BIRTH_DEFECT     object\n",
       "OFC_VISIT        object\n",
       "ER_ED_VISIT      object\n",
       "ALLERGIES        object\n",
       "dtype: object"
      ]
     },
     "execution_count": 9,
     "metadata": {},
     "output_type": "execute_result"
    }
   ],
   "source": [
    "# Look at datatypes\n",
    "df_patients.dtypes"
   ]
  },
  {
   "cell_type": "code",
   "execution_count": 10,
   "metadata": {},
   "outputs": [
    {
     "data": {
      "text/html": [
       "<div>\n",
       "<style scoped>\n",
       "    .dataframe tbody tr th:only-of-type {\n",
       "        vertical-align: middle;\n",
       "    }\n",
       "\n",
       "    .dataframe tbody tr th {\n",
       "        vertical-align: top;\n",
       "    }\n",
       "\n",
       "    .dataframe thead th {\n",
       "        text-align: right;\n",
       "    }\n",
       "</style>\n",
       "<table border=\"1\" class=\"dataframe\">\n",
       "  <thead>\n",
       "    <tr style=\"text-align: right;\">\n",
       "      <th></th>\n",
       "      <th>VAERS_ID</th>\n",
       "      <th>SYMPTOM1</th>\n",
       "      <th>SYMPTOMVERSION1</th>\n",
       "      <th>SYMPTOM2</th>\n",
       "      <th>SYMPTOMVERSION2</th>\n",
       "      <th>SYMPTOM3</th>\n",
       "      <th>SYMPTOMVERSION3</th>\n",
       "      <th>SYMPTOM4</th>\n",
       "      <th>SYMPTOMVERSION4</th>\n",
       "      <th>SYMPTOM5</th>\n",
       "      <th>SYMPTOMVERSION5</th>\n",
       "    </tr>\n",
       "  </thead>\n",
       "  <tbody>\n",
       "    <tr>\n",
       "      <th>0</th>\n",
       "      <td>916710</td>\n",
       "      <td>Appendicitis</td>\n",
       "      <td>23.1</td>\n",
       "      <td>Band neutrophil percentage increased</td>\n",
       "      <td>23.1</td>\n",
       "      <td>Surgery</td>\n",
       "      <td>23.1</td>\n",
       "      <td>White blood cell count increased</td>\n",
       "      <td>23.1</td>\n",
       "      <td>NaN</td>\n",
       "      <td>NaN</td>\n",
       "    </tr>\n",
       "    <tr>\n",
       "      <th>1</th>\n",
       "      <td>916741</td>\n",
       "      <td>Chills</td>\n",
       "      <td>23.1</td>\n",
       "      <td>Complex regional pain syndrome</td>\n",
       "      <td>23.1</td>\n",
       "      <td>Fatigue</td>\n",
       "      <td>23.1</td>\n",
       "      <td>Headache</td>\n",
       "      <td>23.1</td>\n",
       "      <td>Joint range of motion decreased</td>\n",
       "      <td>23.1</td>\n",
       "    </tr>\n",
       "    <tr>\n",
       "      <th>2</th>\n",
       "      <td>916741</td>\n",
       "      <td>Myalgia</td>\n",
       "      <td>23.1</td>\n",
       "      <td>Pain in extremity</td>\n",
       "      <td>23.1</td>\n",
       "      <td>Peripheral swelling</td>\n",
       "      <td>23.1</td>\n",
       "      <td>X-ray abnormal</td>\n",
       "      <td>23.1</td>\n",
       "      <td>NaN</td>\n",
       "      <td>NaN</td>\n",
       "    </tr>\n",
       "    <tr>\n",
       "      <th>3</th>\n",
       "      <td>916742</td>\n",
       "      <td>Anaphylactic reaction</td>\n",
       "      <td>23.1</td>\n",
       "      <td>Blood test</td>\n",
       "      <td>23.1</td>\n",
       "      <td>Burning sensation</td>\n",
       "      <td>23.1</td>\n",
       "      <td>Central venous catheterisation</td>\n",
       "      <td>23.1</td>\n",
       "      <td>Dysphonia</td>\n",
       "      <td>23.1</td>\n",
       "    </tr>\n",
       "    <tr>\n",
       "      <th>4</th>\n",
       "      <td>916742</td>\n",
       "      <td>Intensive care</td>\n",
       "      <td>23.1</td>\n",
       "      <td>Pruritus</td>\n",
       "      <td>23.1</td>\n",
       "      <td>Rash</td>\n",
       "      <td>23.1</td>\n",
       "      <td>Rash macular</td>\n",
       "      <td>23.1</td>\n",
       "      <td>Throat tightness</td>\n",
       "      <td>23.1</td>\n",
       "    </tr>\n",
       "  </tbody>\n",
       "</table>\n",
       "</div>"
      ],
      "text/plain": [
       "   VAERS_ID               SYMPTOM1  SYMPTOMVERSION1  \\\n",
       "0    916710           Appendicitis             23.1   \n",
       "1    916741                 Chills             23.1   \n",
       "2    916741                Myalgia             23.1   \n",
       "3    916742  Anaphylactic reaction             23.1   \n",
       "4    916742         Intensive care             23.1   \n",
       "\n",
       "                               SYMPTOM2  SYMPTOMVERSION2             SYMPTOM3  \\\n",
       "0  Band neutrophil percentage increased             23.1              Surgery   \n",
       "1        Complex regional pain syndrome             23.1              Fatigue   \n",
       "2                     Pain in extremity             23.1  Peripheral swelling   \n",
       "3                            Blood test             23.1    Burning sensation   \n",
       "4                              Pruritus             23.1                 Rash   \n",
       "\n",
       "   SYMPTOMVERSION3                          SYMPTOM4  SYMPTOMVERSION4  \\\n",
       "0             23.1  White blood cell count increased             23.1   \n",
       "1             23.1                          Headache             23.1   \n",
       "2             23.1                    X-ray abnormal             23.1   \n",
       "3             23.1    Central venous catheterisation             23.1   \n",
       "4             23.1                      Rash macular             23.1   \n",
       "\n",
       "                          SYMPTOM5  SYMPTOMVERSION5  \n",
       "0                              NaN              NaN  \n",
       "1  Joint range of motion decreased             23.1  \n",
       "2                              NaN              NaN  \n",
       "3                        Dysphonia             23.1  \n",
       "4                 Throat tightness             23.1  "
      ]
     },
     "execution_count": 10,
     "metadata": {},
     "output_type": "execute_result"
    }
   ],
   "source": [
    "df_symptoms.head()"
   ]
  },
  {
   "cell_type": "code",
   "execution_count": 11,
   "metadata": {},
   "outputs": [
    {
     "data": {
      "text/html": [
       "<div>\n",
       "<style scoped>\n",
       "    .dataframe tbody tr th:only-of-type {\n",
       "        vertical-align: middle;\n",
       "    }\n",
       "\n",
       "    .dataframe tbody tr th {\n",
       "        vertical-align: top;\n",
       "    }\n",
       "\n",
       "    .dataframe thead th {\n",
       "        text-align: right;\n",
       "    }\n",
       "</style>\n",
       "<table border=\"1\" class=\"dataframe\">\n",
       "  <thead>\n",
       "    <tr style=\"text-align: right;\">\n",
       "      <th></th>\n",
       "      <th>VAERS_ID</th>\n",
       "      <th>VAX_TYPE</th>\n",
       "      <th>VAX_MANU</th>\n",
       "      <th>VAX_LOT</th>\n",
       "      <th>VAX_DOSE_SERIES</th>\n",
       "      <th>VAX_ROUTE</th>\n",
       "      <th>VAX_SITE</th>\n",
       "      <th>VAX_NAME</th>\n",
       "    </tr>\n",
       "  </thead>\n",
       "  <tbody>\n",
       "    <tr>\n",
       "      <th>0</th>\n",
       "      <td>916710</td>\n",
       "      <td>COVID19</td>\n",
       "      <td>MODERNA</td>\n",
       "      <td>NaN</td>\n",
       "      <td>1</td>\n",
       "      <td>IM</td>\n",
       "      <td>LA</td>\n",
       "      <td>COVID19 (COVID19 (MODERNA))</td>\n",
       "    </tr>\n",
       "    <tr>\n",
       "      <th>1</th>\n",
       "      <td>916741</td>\n",
       "      <td>COVID19</td>\n",
       "      <td>PFIZER\\BIONTECH</td>\n",
       "      <td>EH9899</td>\n",
       "      <td>1</td>\n",
       "      <td>SYR</td>\n",
       "      <td>LA</td>\n",
       "      <td>COVID19 (COVID19 (PFIZER-BIONTECH))</td>\n",
       "    </tr>\n",
       "    <tr>\n",
       "      <th>2</th>\n",
       "      <td>916742</td>\n",
       "      <td>COVID19</td>\n",
       "      <td>PFIZER\\BIONTECH</td>\n",
       "      <td>NaN</td>\n",
       "      <td>1</td>\n",
       "      <td>IM</td>\n",
       "      <td>NaN</td>\n",
       "      <td>COVID19 (COVID19 (PFIZER-BIONTECH))</td>\n",
       "    </tr>\n",
       "    <tr>\n",
       "      <th>3</th>\n",
       "      <td>916746</td>\n",
       "      <td>COVID19</td>\n",
       "      <td>MODERNA</td>\n",
       "      <td>037K20A</td>\n",
       "      <td>1</td>\n",
       "      <td>IM</td>\n",
       "      <td>LA</td>\n",
       "      <td>COVID19 (COVID19 (MODERNA))</td>\n",
       "    </tr>\n",
       "    <tr>\n",
       "      <th>4</th>\n",
       "      <td>916772</td>\n",
       "      <td>COVID19</td>\n",
       "      <td>PFIZER\\BIONTECH</td>\n",
       "      <td>EJ1685</td>\n",
       "      <td>UNK</td>\n",
       "      <td>IM</td>\n",
       "      <td>LA</td>\n",
       "      <td>COVID19 (COVID19 (PFIZER-BIONTECH))</td>\n",
       "    </tr>\n",
       "  </tbody>\n",
       "</table>\n",
       "</div>"
      ],
      "text/plain": [
       "   VAERS_ID VAX_TYPE         VAX_MANU  VAX_LOT VAX_DOSE_SERIES VAX_ROUTE  \\\n",
       "0    916710  COVID19          MODERNA      NaN               1        IM   \n",
       "1    916741  COVID19  PFIZER\\BIONTECH   EH9899               1       SYR   \n",
       "2    916742  COVID19  PFIZER\\BIONTECH      NaN               1        IM   \n",
       "3    916746  COVID19          MODERNA  037K20A               1        IM   \n",
       "4    916772  COVID19  PFIZER\\BIONTECH   EJ1685             UNK        IM   \n",
       "\n",
       "  VAX_SITE                             VAX_NAME  \n",
       "0       LA          COVID19 (COVID19 (MODERNA))  \n",
       "1       LA  COVID19 (COVID19 (PFIZER-BIONTECH))  \n",
       "2      NaN  COVID19 (COVID19 (PFIZER-BIONTECH))  \n",
       "3       LA          COVID19 (COVID19 (MODERNA))  \n",
       "4       LA  COVID19 (COVID19 (PFIZER-BIONTECH))  "
      ]
     },
     "execution_count": 11,
     "metadata": {},
     "output_type": "execute_result"
    }
   ],
   "source": [
    "df_vax.head()"
   ]
  },
  {
   "cell_type": "markdown",
   "metadata": {},
   "source": [
    "## Data Preparation / Cleaning"
   ]
  },
  {
   "cell_type": "markdown",
   "metadata": {},
   "source": [
    "### General Data Cleaning"
   ]
  },
  {
   "cell_type": "code",
   "execution_count": 12,
   "metadata": {},
   "outputs": [],
   "source": [
    "def cols_all_nan(df):\n",
    "    ''' Returns columns with NaN for every row in df\n",
    "    \n",
    "    INPUT:\n",
    "    df - pandas dataframe\n",
    "    \n",
    "    OUTPUT:\n",
    "    list of column indices for all columns with all NaN values \n",
    "    '''\n",
    "    return df.columns[df.isnull().all()]"
   ]
  },
  {
   "cell_type": "code",
   "execution_count": 13,
   "metadata": {},
   "outputs": [],
   "source": [
    "def cols_with_nan(df, percentage):\n",
    "    '''Returns the column names that have more than (percentage * 100) %\n",
    "    of their values missing\n",
    "    \n",
    "    INPUT:\n",
    "    df - pandas dataframe\n",
    "    percentage - float, percentage of values missing\n",
    "\n",
    "    OUTPUT:\n",
    "    list of column indices for all columns where more than (percentage * 100) %\n",
    "    of their values are missing\n",
    "    '''\n",
    "    return df.columns[np.sum(df.isnull())/df.shape[0] > percentage]"
   ]
  },
  {
   "cell_type": "code",
   "execution_count": 14,
   "metadata": {},
   "outputs": [
    {
     "name": "stdout",
     "output_type": "stream",
     "text": [
      "Cols NaN for all rows:  Index(['ER_VISIT'], dtype='object')\n",
      "Cols NaN for all rows:  Index([], dtype='object')\n",
      "Cols NaN for all rows:  Index([], dtype='object')\n"
     ]
    }
   ],
   "source": [
    "print(\"Cols NaN for all rows: \", cols_all_nan(df_patients)) \n",
    "print(\"Cols NaN for all rows: \", cols_all_nan(df_symptoms))\n",
    "print(\"Cols NaN for all rows: \", cols_all_nan(df_vax))"
   ]
  },
  {
   "cell_type": "code",
   "execution_count": 15,
   "metadata": {},
   "outputs": [
    {
     "name": "stdout",
     "output_type": "stream",
     "text": [
      "Index(['CAGE_MO', 'RPT_DATE', 'DIED', 'DATEDIED', 'L_THREAT', 'ER_VISIT',\n",
      "       'HOSPITAL', 'HOSPDAYS', 'X_STAY', 'DISABLE', 'V_FUNDBY', 'CUR_ILL',\n",
      "       'PRIOR_VAX', 'SPLTTYPE', 'BIRTH_DEFECT', 'OFC_VISIT', 'ER_ED_VISIT',\n",
      "       'ALLERGIES'],\n",
      "      dtype='object')\n",
      "Index(['SYMPTOM5', 'SYMPTOMVERSION5'], dtype='object')\n",
      "Index([], dtype='object')\n"
     ]
    }
   ],
   "source": [
    "print(cols_with_nan(df_patients, 0.5))\n",
    "print(cols_with_nan(df_symptoms, 0.5))\n",
    "print(cols_with_nan(df_vax, 0.5))"
   ]
  },
  {
   "cell_type": "markdown",
   "metadata": {},
   "source": [
    "#### Drop columns with NaNs / irrelevant information"
   ]
  },
  {
   "cell_type": "code",
   "execution_count": 16,
   "metadata": {},
   "outputs": [],
   "source": [
    "# column \"ER_VISIT\" is NaN for all entries, for form 2 replaced by \"ER_ED_VISIT\" -> can be dropped (only 7 entries with form 1)\n",
    "df_patients.drop(columns=\"ER_VISIT\", inplace=True)\n",
    "\n",
    "# cage_mo: calculated age of patient in months -> only available for babies <= 2.0 years (= 8 patients, 0.2% of data) \n",
    "# -> decision: age in years is enough for now \n",
    "df_patients.drop(columns=\"CAGE_MO\", inplace=True)\n",
    "\n",
    "# column \"RPT_Date\" only available for 7 patients (= date form was completed), discontinued for form 2 -> can be dropped\n",
    "df_patients.drop(columns=\"RPT_DATE\", inplace=True)\n",
    "\n",
    "# column \"V_FUNDBY\" is VAERS1 only field, (= funds used to purchase the vaccines) -> not relevant to us, can be dropped\n",
    "df_patients.drop(columns=\"V_FUNDBY\", inplace=True)"
   ]
  },
  {
   "cell_type": "markdown",
   "metadata": {},
   "source": [
    "#### Binary columns"
   ]
  },
  {
   "cell_type": "code",
   "execution_count": 17,
   "metadata": {},
   "outputs": [],
   "source": [
    "# for all columns in y_col, the values are either \"Y\" or NaN otherwise -> replace by 1 and 0\n",
    "y_cols = [\"ER_ED_VISIT\", \"DIED\", \"L_THREAT\", \"HOSPITAL\", \"X_STAY\", \"DISABLE\", \"BIRTH_DEFECT\", \"OFC_VISIT\"]\n",
    "\n",
    "for col in y_cols:\n",
    "    df_patients[col] = np.where(df_patients[col] == \"Y\", 1, 0)"
   ]
  },
  {
   "cell_type": "code",
   "execution_count": 18,
   "metadata": {},
   "outputs": [
    {
     "name": "stdout",
     "output_type": "stream",
     "text": [
      "Remaining cols with NaNs are the following: \n",
      "['DATEDIED' 'HOSPDAYS' 'CUR_ILL' 'PRIOR_VAX' 'SPLTTYPE' 'ALLERGIES']\n",
      "They are filled with text descriptions or dates, so there is no easy way to replace NaNs but they could be relevant, so for now I will try to work around.\n"
     ]
    }
   ],
   "source": [
    "print(\"Remaining cols with NaNs are the following: \")\n",
    "print(cols_with_nan(df_patients, 0.5).values)\n",
    "print(\"They are filled with text descriptions or dates, so there is no easy way to replace NaNs but they could be relevant, so for now I will try to work around.\")"
   ]
  },
  {
   "cell_type": "markdown",
   "metadata": {},
   "source": [
    "#### Replace values that actually mean \"NaN\" (differs slightly for the respective columns) "
   ]
  },
  {
   "cell_type": "code",
   "execution_count": 19,
   "metadata": {},
   "outputs": [],
   "source": [
    "# for the column \"CUR_ILL\", some of the entries are \"None\" or \"No\" (as string) -> change to NaN\n",
    "df_patients[\"CUR_ILL\"].replace(\n",
    "    [\"None\", \"No\", \"NONE\", \"unknown\", \"Unknown\", \"none\", \"no\", \"None known\", \"none known\", \n",
    "     \"None reported\", \"none reported\", \"UNKNOWN\", \"N/a\", \"None stated/Denied\",\n",
    "    \"No other illness prior to vaccination or within the month prior\", \"NKDA\"], \n",
    "    np.nan, inplace=True)"
   ]
  },
  {
   "cell_type": "code",
   "execution_count": 20,
   "metadata": {},
   "outputs": [],
   "source": [
    "# for the column \"ALLERGIES\", some of the entries are \"None\" or \"No\" (as string) -> change to NaN\n",
    "df_patients[\"ALLERGIES\"].replace(\n",
    "    [\"None\", \"none\", \"NKDA\", \"NKA\", \"No known allergies\", \"unknown\", \n",
    "     \"No\", \"Unknown\", \"no\", \"NONE\", \"No Known Allergies\", \"no known allergies\",\n",
    "    \"nka\", \"None known\", \"NKA to medications\", \"No known allergies to drugs or food\"], np.nan, inplace=True)"
   ]
  },
  {
   "cell_type": "code",
   "execution_count": 21,
   "metadata": {},
   "outputs": [],
   "source": [
    "# for the column \"HISTORY\", some of the entries are \"None\" or \"No\" (as string) -> change to NaN\n",
    "df_patients[\"HISTORY\"].replace([\"None\", \"none\", \"unknown\", \"unsure\", \"Unknown\", \"no\", \n",
    "                                \"Unsure\", \"No\", \"NONE\", \"UNKNOWN\", \"N/a\", \"None known\",\n",
    "                               \"None reported\", \"none reported\", \"None stated/Denied\", \n",
    "                                \"none known\"\n",
    "                               ], np.nan, inplace=True)"
   ]
  },
  {
   "cell_type": "code",
   "execution_count": 22,
   "metadata": {},
   "outputs": [],
   "source": [
    "# Replacing NaN value with 0 makes sense for counting of days being hospitalized\n",
    "df_patients[\"HOSPDAYS\"].replace(np.nan, 0, inplace=True)"
   ]
  },
  {
   "cell_type": "markdown",
   "metadata": {},
   "source": [
    "#### Explanation for Symptoms Text in Patients Dataset\n",
    "Reported Symptom Text (SYMPTOM_TEXT): This is the symptom text\n",
    "recorded in the form (in df_patients). MedDRA Terms are derived from this text and placed in the\n",
    "VAERSSYMPTOMS file.\n",
    "$\\rightarrow$ \"SYMPTOM_TEXT\" can be ignored, order of terms in df_symptoms are not relevant"
   ]
  },
  {
   "cell_type": "code",
   "execution_count": 23,
   "metadata": {},
   "outputs": [
    {
     "data": {
      "text/html": [
       "<div>\n",
       "<style scoped>\n",
       "    .dataframe tbody tr th:only-of-type {\n",
       "        vertical-align: middle;\n",
       "    }\n",
       "\n",
       "    .dataframe tbody tr th {\n",
       "        vertical-align: top;\n",
       "    }\n",
       "\n",
       "    .dataframe thead th {\n",
       "        text-align: right;\n",
       "    }\n",
       "</style>\n",
       "<table border=\"1\" class=\"dataframe\">\n",
       "  <thead>\n",
       "    <tr style=\"text-align: right;\">\n",
       "      <th></th>\n",
       "      <th>VAERS_ID</th>\n",
       "      <th>NUMBER</th>\n",
       "      <th>SYMPTOM</th>\n",
       "    </tr>\n",
       "  </thead>\n",
       "  <tbody>\n",
       "    <tr>\n",
       "      <th>0</th>\n",
       "      <td>916710</td>\n",
       "      <td>SYMPTOM1</td>\n",
       "      <td>Appendicitis</td>\n",
       "    </tr>\n",
       "    <tr>\n",
       "      <th>1</th>\n",
       "      <td>916741</td>\n",
       "      <td>SYMPTOM1</td>\n",
       "      <td>Chills</td>\n",
       "    </tr>\n",
       "    <tr>\n",
       "      <th>2</th>\n",
       "      <td>916741</td>\n",
       "      <td>SYMPTOM1</td>\n",
       "      <td>Myalgia</td>\n",
       "    </tr>\n",
       "    <tr>\n",
       "      <th>3</th>\n",
       "      <td>916742</td>\n",
       "      <td>SYMPTOM1</td>\n",
       "      <td>Anaphylactic reaction</td>\n",
       "    </tr>\n",
       "    <tr>\n",
       "      <th>4</th>\n",
       "      <td>916742</td>\n",
       "      <td>SYMPTOM1</td>\n",
       "      <td>Intensive care</td>\n",
       "    </tr>\n",
       "  </tbody>\n",
       "</table>\n",
       "</div>"
      ],
      "text/plain": [
       "   VAERS_ID    NUMBER                SYMPTOM\n",
       "0    916710  SYMPTOM1           Appendicitis\n",
       "1    916741  SYMPTOM1                 Chills\n",
       "2    916741  SYMPTOM1                Myalgia\n",
       "3    916742  SYMPTOM1  Anaphylactic reaction\n",
       "4    916742  SYMPTOM1         Intensive care"
      ]
     },
     "execution_count": 23,
     "metadata": {},
     "output_type": "execute_result"
    }
   ],
   "source": [
    "# Transform the symptoms dataset so that there is only one column for the symptoms\n",
    "df_symptoms_m = pd.melt(df_symptoms, id_vars=['VAERS_ID'], value_vars=['SYMPTOM1', 'SYMPTOM2', \n",
    "                                                                'SYMPTOM3', 'SYMPTOM4', 'SYMPTOM5'],\n",
    "                     var_name='NUMBER', value_name='SYMPTOM')\n",
    "df_symptoms_m.dropna(subset=['SYMPTOM'], inplace=True)\n",
    "\n",
    "df_symptoms_m.head()"
   ]
  },
  {
   "cell_type": "code",
   "execution_count": 24,
   "metadata": {
    "scrolled": true
   },
   "outputs": [
    {
     "name": "stdout",
     "output_type": "stream",
     "text": [
      "(2946, 31)\n",
      "(16243, 3)\n",
      "(3014, 8)\n"
     ]
    }
   ],
   "source": [
    "print(df_patients.shape)\n",
    "print(df_symptoms_m.shape)\n",
    "print(df_vax.shape)"
   ]
  },
  {
   "cell_type": "markdown",
   "metadata": {},
   "source": [
    "**Observation:**  \n",
    "While for the patients dataset there is only one entry per person (2964 patients in total), it can be more than one entry (row) for the other datasets (> 1 symptom for one patient, > 1 vaccination per person).  \n",
    "I'm only interested in the COVID19 vaccinations, so I will drop the others. Since there are only 120 other vaccination entries, a comparison wouldn't work well anyway."
   ]
  },
  {
   "cell_type": "code",
   "execution_count": 25,
   "metadata": {},
   "outputs": [
    {
     "name": "stdout",
     "output_type": "stream",
     "text": [
      "# Patients with covid vaccination:  2820\n",
      "# Patients of reduced patients dataset:  (2820,)\n",
      "# Patients of reduced symptoms dataset:  (15597,)\n",
      "# Patients of reduced vax dataset:  (2853,)\n"
     ]
    }
   ],
   "source": [
    "covid_ids = df_vax[df_vax[\"VAX_TYPE\"] == \"COVID19\"][\"VAERS_ID\"].unique().tolist()\n",
    "print(\"# Patients with covid vaccination: \", len(covid_ids))\n",
    "covid_patients = df_patients[df_patients[\"VAERS_ID\"].isin(covid_ids)]\n",
    "print(\"# Patients of reduced patients dataset: \", covid_patients[\"VAERS_ID\"].shape)\n",
    "covid_symptoms = df_symptoms_m[df_symptoms_m[\"VAERS_ID\"].isin(covid_ids)]\n",
    "print(\"# Patients of reduced symptoms dataset: \", covid_symptoms[\"VAERS_ID\"].shape)\n",
    "covid_vax = df_vax[df_vax[\"VAERS_ID\"].isin(covid_ids)]\n",
    "print(\"# Patients of reduced vax dataset: \", covid_vax[\"VAERS_ID\"].shape)"
   ]
  },
  {
   "cell_type": "code",
   "execution_count": 26,
   "metadata": {},
   "outputs": [],
   "source": [
    "# patient_vax = covid_patients.merge(covid_vax, on=\"VAERS_ID\")\n",
    "# patient_vax.head()"
   ]
  },
  {
   "cell_type": "code",
   "execution_count": 27,
   "metadata": {},
   "outputs": [
    {
     "data": {
      "text/html": [
       "<div>\n",
       "<style scoped>\n",
       "    .dataframe tbody tr th:only-of-type {\n",
       "        vertical-align: middle;\n",
       "    }\n",
       "\n",
       "    .dataframe tbody tr th {\n",
       "        vertical-align: top;\n",
       "    }\n",
       "\n",
       "    .dataframe thead th {\n",
       "        text-align: right;\n",
       "    }\n",
       "</style>\n",
       "<table border=\"1\" class=\"dataframe\">\n",
       "  <thead>\n",
       "    <tr style=\"text-align: right;\">\n",
       "      <th></th>\n",
       "      <th>VAERS_ID</th>\n",
       "      <th>RECVDATE</th>\n",
       "      <th>STATE</th>\n",
       "      <th>AGE_YRS</th>\n",
       "      <th>CAGE_YR</th>\n",
       "      <th>SEX</th>\n",
       "      <th>SYMPTOM_TEXT</th>\n",
       "      <th>DIED</th>\n",
       "      <th>DATEDIED</th>\n",
       "      <th>L_THREAT</th>\n",
       "      <th>...</th>\n",
       "      <th>PRIOR_VAX</th>\n",
       "      <th>SPLTTYPE</th>\n",
       "      <th>FORM_VERS</th>\n",
       "      <th>TODAYS_DATE</th>\n",
       "      <th>BIRTH_DEFECT</th>\n",
       "      <th>OFC_VISIT</th>\n",
       "      <th>ER_ED_VISIT</th>\n",
       "      <th>ALLERGIES</th>\n",
       "      <th>NUMBER</th>\n",
       "      <th>SYMPTOM</th>\n",
       "    </tr>\n",
       "  </thead>\n",
       "  <tbody>\n",
       "    <tr>\n",
       "      <th>0</th>\n",
       "      <td>916710</td>\n",
       "      <td>01/01/2021</td>\n",
       "      <td>MO</td>\n",
       "      <td>23.0</td>\n",
       "      <td>23.0</td>\n",
       "      <td>F</td>\n",
       "      <td>Acute appendicitis, onset morning of 1/1/2021 ...</td>\n",
       "      <td>0</td>\n",
       "      <td>NaN</td>\n",
       "      <td>1</td>\n",
       "      <td>...</td>\n",
       "      <td>NaN</td>\n",
       "      <td>NaN</td>\n",
       "      <td>2</td>\n",
       "      <td>01/01/2021</td>\n",
       "      <td>0</td>\n",
       "      <td>0</td>\n",
       "      <td>1</td>\n",
       "      <td>NaN</td>\n",
       "      <td>SYMPTOM1</td>\n",
       "      <td>Appendicitis</td>\n",
       "    </tr>\n",
       "    <tr>\n",
       "      <th>1</th>\n",
       "      <td>916710</td>\n",
       "      <td>01/01/2021</td>\n",
       "      <td>MO</td>\n",
       "      <td>23.0</td>\n",
       "      <td>23.0</td>\n",
       "      <td>F</td>\n",
       "      <td>Acute appendicitis, onset morning of 1/1/2021 ...</td>\n",
       "      <td>0</td>\n",
       "      <td>NaN</td>\n",
       "      <td>1</td>\n",
       "      <td>...</td>\n",
       "      <td>NaN</td>\n",
       "      <td>NaN</td>\n",
       "      <td>2</td>\n",
       "      <td>01/01/2021</td>\n",
       "      <td>0</td>\n",
       "      <td>0</td>\n",
       "      <td>1</td>\n",
       "      <td>NaN</td>\n",
       "      <td>SYMPTOM2</td>\n",
       "      <td>Band neutrophil percentage increased</td>\n",
       "    </tr>\n",
       "    <tr>\n",
       "      <th>2</th>\n",
       "      <td>916710</td>\n",
       "      <td>01/01/2021</td>\n",
       "      <td>MO</td>\n",
       "      <td>23.0</td>\n",
       "      <td>23.0</td>\n",
       "      <td>F</td>\n",
       "      <td>Acute appendicitis, onset morning of 1/1/2021 ...</td>\n",
       "      <td>0</td>\n",
       "      <td>NaN</td>\n",
       "      <td>1</td>\n",
       "      <td>...</td>\n",
       "      <td>NaN</td>\n",
       "      <td>NaN</td>\n",
       "      <td>2</td>\n",
       "      <td>01/01/2021</td>\n",
       "      <td>0</td>\n",
       "      <td>0</td>\n",
       "      <td>1</td>\n",
       "      <td>NaN</td>\n",
       "      <td>SYMPTOM3</td>\n",
       "      <td>Surgery</td>\n",
       "    </tr>\n",
       "    <tr>\n",
       "      <th>3</th>\n",
       "      <td>916710</td>\n",
       "      <td>01/01/2021</td>\n",
       "      <td>MO</td>\n",
       "      <td>23.0</td>\n",
       "      <td>23.0</td>\n",
       "      <td>F</td>\n",
       "      <td>Acute appendicitis, onset morning of 1/1/2021 ...</td>\n",
       "      <td>0</td>\n",
       "      <td>NaN</td>\n",
       "      <td>1</td>\n",
       "      <td>...</td>\n",
       "      <td>NaN</td>\n",
       "      <td>NaN</td>\n",
       "      <td>2</td>\n",
       "      <td>01/01/2021</td>\n",
       "      <td>0</td>\n",
       "      <td>0</td>\n",
       "      <td>1</td>\n",
       "      <td>NaN</td>\n",
       "      <td>SYMPTOM4</td>\n",
       "      <td>White blood cell count increased</td>\n",
       "    </tr>\n",
       "    <tr>\n",
       "      <th>4</th>\n",
       "      <td>916741</td>\n",
       "      <td>01/01/2021</td>\n",
       "      <td>AR</td>\n",
       "      <td>68.0</td>\n",
       "      <td>68.0</td>\n",
       "      <td>F</td>\n",
       "      <td>on dec 22 I felt some myalgias, chills, fatigu...</td>\n",
       "      <td>0</td>\n",
       "      <td>NaN</td>\n",
       "      <td>0</td>\n",
       "      <td>...</td>\n",
       "      <td>NaN</td>\n",
       "      <td>NaN</td>\n",
       "      <td>2</td>\n",
       "      <td>01/01/2021</td>\n",
       "      <td>0</td>\n",
       "      <td>0</td>\n",
       "      <td>0</td>\n",
       "      <td>bee stings</td>\n",
       "      <td>SYMPTOM1</td>\n",
       "      <td>Chills</td>\n",
       "    </tr>\n",
       "  </tbody>\n",
       "</table>\n",
       "<p>5 rows × 33 columns</p>\n",
       "</div>"
      ],
      "text/plain": [
       "   VAERS_ID    RECVDATE STATE  AGE_YRS  CAGE_YR SEX  \\\n",
       "0    916710  01/01/2021    MO     23.0     23.0   F   \n",
       "1    916710  01/01/2021    MO     23.0     23.0   F   \n",
       "2    916710  01/01/2021    MO     23.0     23.0   F   \n",
       "3    916710  01/01/2021    MO     23.0     23.0   F   \n",
       "4    916741  01/01/2021    AR     68.0     68.0   F   \n",
       "\n",
       "                                        SYMPTOM_TEXT  DIED DATEDIED  L_THREAT  \\\n",
       "0  Acute appendicitis, onset morning of 1/1/2021 ...     0      NaN         1   \n",
       "1  Acute appendicitis, onset morning of 1/1/2021 ...     0      NaN         1   \n",
       "2  Acute appendicitis, onset morning of 1/1/2021 ...     0      NaN         1   \n",
       "3  Acute appendicitis, onset morning of 1/1/2021 ...     0      NaN         1   \n",
       "4  on dec 22 I felt some myalgias, chills, fatigu...     0      NaN         0   \n",
       "\n",
       "   ...  PRIOR_VAX  SPLTTYPE  FORM_VERS  TODAYS_DATE BIRTH_DEFECT OFC_VISIT  \\\n",
       "0  ...        NaN       NaN          2   01/01/2021            0         0   \n",
       "1  ...        NaN       NaN          2   01/01/2021            0         0   \n",
       "2  ...        NaN       NaN          2   01/01/2021            0         0   \n",
       "3  ...        NaN       NaN          2   01/01/2021            0         0   \n",
       "4  ...        NaN       NaN          2   01/01/2021            0         0   \n",
       "\n",
       "  ER_ED_VISIT   ALLERGIES    NUMBER                               SYMPTOM  \n",
       "0           1         NaN  SYMPTOM1                          Appendicitis  \n",
       "1           1         NaN  SYMPTOM2  Band neutrophil percentage increased  \n",
       "2           1         NaN  SYMPTOM3                               Surgery  \n",
       "3           1         NaN  SYMPTOM4      White blood cell count increased  \n",
       "4           0  bee stings  SYMPTOM1                                Chills  \n",
       "\n",
       "[5 rows x 33 columns]"
      ]
     },
     "execution_count": 27,
     "metadata": {},
     "output_type": "execute_result"
    }
   ],
   "source": [
    "patient_symp = covid_patients.merge(covid_symptoms, on=\"VAERS_ID\")\n",
    "patient_symp.head()"
   ]
  },
  {
   "cell_type": "code",
   "execution_count": 28,
   "metadata": {},
   "outputs": [
    {
     "data": {
      "text/html": [
       "<div>\n",
       "<style scoped>\n",
       "    .dataframe tbody tr th:only-of-type {\n",
       "        vertical-align: middle;\n",
       "    }\n",
       "\n",
       "    .dataframe tbody tr th {\n",
       "        vertical-align: top;\n",
       "    }\n",
       "\n",
       "    .dataframe thead th {\n",
       "        text-align: right;\n",
       "    }\n",
       "</style>\n",
       "<table border=\"1\" class=\"dataframe\">\n",
       "  <thead>\n",
       "    <tr style=\"text-align: right;\">\n",
       "      <th></th>\n",
       "      <th>VAERS_ID</th>\n",
       "      <th>RECVDATE</th>\n",
       "      <th>STATE</th>\n",
       "      <th>AGE_YRS</th>\n",
       "      <th>CAGE_YR</th>\n",
       "      <th>SEX</th>\n",
       "      <th>SYMPTOM_TEXT</th>\n",
       "      <th>DIED</th>\n",
       "      <th>DATEDIED</th>\n",
       "      <th>L_THREAT</th>\n",
       "      <th>...</th>\n",
       "      <th>SPLTTYPE</th>\n",
       "      <th>FORM_VERS</th>\n",
       "      <th>TODAYS_DATE</th>\n",
       "      <th>BIRTH_DEFECT</th>\n",
       "      <th>OFC_VISIT</th>\n",
       "      <th>ER_ED_VISIT</th>\n",
       "      <th>ALLERGIES</th>\n",
       "      <th>NUMBER</th>\n",
       "      <th>SYMPTOM</th>\n",
       "      <th>VAX_MANU</th>\n",
       "    </tr>\n",
       "  </thead>\n",
       "  <tbody>\n",
       "    <tr>\n",
       "      <th>0</th>\n",
       "      <td>916710</td>\n",
       "      <td>01/01/2021</td>\n",
       "      <td>MO</td>\n",
       "      <td>23.0</td>\n",
       "      <td>23.0</td>\n",
       "      <td>F</td>\n",
       "      <td>Acute appendicitis, onset morning of 1/1/2021 ...</td>\n",
       "      <td>0</td>\n",
       "      <td>NaN</td>\n",
       "      <td>1</td>\n",
       "      <td>...</td>\n",
       "      <td>NaN</td>\n",
       "      <td>2</td>\n",
       "      <td>01/01/2021</td>\n",
       "      <td>0</td>\n",
       "      <td>0</td>\n",
       "      <td>1</td>\n",
       "      <td>NaN</td>\n",
       "      <td>SYMPTOM1</td>\n",
       "      <td>Appendicitis</td>\n",
       "      <td>MODERNA</td>\n",
       "    </tr>\n",
       "    <tr>\n",
       "      <th>1</th>\n",
       "      <td>916710</td>\n",
       "      <td>01/01/2021</td>\n",
       "      <td>MO</td>\n",
       "      <td>23.0</td>\n",
       "      <td>23.0</td>\n",
       "      <td>F</td>\n",
       "      <td>Acute appendicitis, onset morning of 1/1/2021 ...</td>\n",
       "      <td>0</td>\n",
       "      <td>NaN</td>\n",
       "      <td>1</td>\n",
       "      <td>...</td>\n",
       "      <td>NaN</td>\n",
       "      <td>2</td>\n",
       "      <td>01/01/2021</td>\n",
       "      <td>0</td>\n",
       "      <td>0</td>\n",
       "      <td>1</td>\n",
       "      <td>NaN</td>\n",
       "      <td>SYMPTOM2</td>\n",
       "      <td>Band neutrophil percentage increased</td>\n",
       "      <td>MODERNA</td>\n",
       "    </tr>\n",
       "    <tr>\n",
       "      <th>2</th>\n",
       "      <td>916710</td>\n",
       "      <td>01/01/2021</td>\n",
       "      <td>MO</td>\n",
       "      <td>23.0</td>\n",
       "      <td>23.0</td>\n",
       "      <td>F</td>\n",
       "      <td>Acute appendicitis, onset morning of 1/1/2021 ...</td>\n",
       "      <td>0</td>\n",
       "      <td>NaN</td>\n",
       "      <td>1</td>\n",
       "      <td>...</td>\n",
       "      <td>NaN</td>\n",
       "      <td>2</td>\n",
       "      <td>01/01/2021</td>\n",
       "      <td>0</td>\n",
       "      <td>0</td>\n",
       "      <td>1</td>\n",
       "      <td>NaN</td>\n",
       "      <td>SYMPTOM3</td>\n",
       "      <td>Surgery</td>\n",
       "      <td>MODERNA</td>\n",
       "    </tr>\n",
       "    <tr>\n",
       "      <th>3</th>\n",
       "      <td>916710</td>\n",
       "      <td>01/01/2021</td>\n",
       "      <td>MO</td>\n",
       "      <td>23.0</td>\n",
       "      <td>23.0</td>\n",
       "      <td>F</td>\n",
       "      <td>Acute appendicitis, onset morning of 1/1/2021 ...</td>\n",
       "      <td>0</td>\n",
       "      <td>NaN</td>\n",
       "      <td>1</td>\n",
       "      <td>...</td>\n",
       "      <td>NaN</td>\n",
       "      <td>2</td>\n",
       "      <td>01/01/2021</td>\n",
       "      <td>0</td>\n",
       "      <td>0</td>\n",
       "      <td>1</td>\n",
       "      <td>NaN</td>\n",
       "      <td>SYMPTOM4</td>\n",
       "      <td>White blood cell count increased</td>\n",
       "      <td>MODERNA</td>\n",
       "    </tr>\n",
       "    <tr>\n",
       "      <th>4</th>\n",
       "      <td>916741</td>\n",
       "      <td>01/01/2021</td>\n",
       "      <td>AR</td>\n",
       "      <td>68.0</td>\n",
       "      <td>68.0</td>\n",
       "      <td>F</td>\n",
       "      <td>on dec 22 I felt some myalgias, chills, fatigu...</td>\n",
       "      <td>0</td>\n",
       "      <td>NaN</td>\n",
       "      <td>0</td>\n",
       "      <td>...</td>\n",
       "      <td>NaN</td>\n",
       "      <td>2</td>\n",
       "      <td>01/01/2021</td>\n",
       "      <td>0</td>\n",
       "      <td>0</td>\n",
       "      <td>0</td>\n",
       "      <td>bee stings</td>\n",
       "      <td>SYMPTOM1</td>\n",
       "      <td>Chills</td>\n",
       "      <td>PFIZER\\BIONTECH</td>\n",
       "    </tr>\n",
       "  </tbody>\n",
       "</table>\n",
       "<p>5 rows × 34 columns</p>\n",
       "</div>"
      ],
      "text/plain": [
       "   VAERS_ID    RECVDATE STATE  AGE_YRS  CAGE_YR SEX  \\\n",
       "0    916710  01/01/2021    MO     23.0     23.0   F   \n",
       "1    916710  01/01/2021    MO     23.0     23.0   F   \n",
       "2    916710  01/01/2021    MO     23.0     23.0   F   \n",
       "3    916710  01/01/2021    MO     23.0     23.0   F   \n",
       "4    916741  01/01/2021    AR     68.0     68.0   F   \n",
       "\n",
       "                                        SYMPTOM_TEXT  DIED DATEDIED  L_THREAT  \\\n",
       "0  Acute appendicitis, onset morning of 1/1/2021 ...     0      NaN         1   \n",
       "1  Acute appendicitis, onset morning of 1/1/2021 ...     0      NaN         1   \n",
       "2  Acute appendicitis, onset morning of 1/1/2021 ...     0      NaN         1   \n",
       "3  Acute appendicitis, onset morning of 1/1/2021 ...     0      NaN         1   \n",
       "4  on dec 22 I felt some myalgias, chills, fatigu...     0      NaN         0   \n",
       "\n",
       "   ...  SPLTTYPE  FORM_VERS  TODAYS_DATE  BIRTH_DEFECT OFC_VISIT ER_ED_VISIT  \\\n",
       "0  ...       NaN          2   01/01/2021             0         0           1   \n",
       "1  ...       NaN          2   01/01/2021             0         0           1   \n",
       "2  ...       NaN          2   01/01/2021             0         0           1   \n",
       "3  ...       NaN          2   01/01/2021             0         0           1   \n",
       "4  ...       NaN          2   01/01/2021             0         0           0   \n",
       "\n",
       "    ALLERGIES    NUMBER                               SYMPTOM         VAX_MANU  \n",
       "0         NaN  SYMPTOM1                          Appendicitis          MODERNA  \n",
       "1         NaN  SYMPTOM2  Band neutrophil percentage increased          MODERNA  \n",
       "2         NaN  SYMPTOM3                               Surgery          MODERNA  \n",
       "3         NaN  SYMPTOM4      White blood cell count increased          MODERNA  \n",
       "4  bee stings  SYMPTOM1                                Chills  PFIZER\\BIONTECH  \n",
       "\n",
       "[5 rows x 34 columns]"
      ]
     },
     "execution_count": 28,
     "metadata": {},
     "output_type": "execute_result"
    }
   ],
   "source": [
    "pt_symp_vax = patient_symp.merge(covid_vax[[\"VAERS_ID\", \"VAX_MANU\"]], on=\"VAERS_ID\")\n",
    "pt_symp_vax.head()"
   ]
  },
  {
   "cell_type": "markdown",
   "metadata": {},
   "source": [
    "### Data Cleaning for Prediction Model (see Q. 5)"
   ]
  },
  {
   "cell_type": "markdown",
   "metadata": {},
   "source": [
    "For the prediction task, I choose specific parameters from the dataset and clean them so that the model doesn't throw an error. This cleaning is not so important for the other questions."
   ]
  },
  {
   "cell_type": "code",
   "execution_count": 29,
   "metadata": {},
   "outputs": [],
   "source": [
    "def clean_data(df, x_cols, y_col):\n",
    "    ''' Create dataset and label and create \n",
    "    dummy variables for categorical variables and fill numeric columns with mean\n",
    "    \n",
    "    INPUT:\n",
    "    df - pandas dataframe \n",
    "    x_cols - list of strings with col names for data\n",
    "    y_col - string with col name for label\n",
    "    \n",
    "    OUTPUT:\n",
    "    data - new dataframe with columns used as features for prediction\n",
    "    y - label for dataset\n",
    "    '''\n",
    "    \n",
    "    data = df[x_cols]\n",
    "    y = df[y_col]\n",
    "\n",
    "    # check if # rows match\n",
    "    if data.shape[0] == len(y):\n",
    "        print(\"Shapes match\")\n",
    "    else:\n",
    "        print(\"Shapes don't match\")\n",
    "    \n",
    "    # create dummy variables for categorical variables\n",
    "    cat_vars = data.select_dtypes(include=['object']).copy().columns\n",
    "    for var in  cat_vars:\n",
    "        # for each category add dummy variable, drop original column\n",
    "        data = pd.concat([data.drop(var, axis=1), pd.get_dummies(data[var], prefix=var, \n",
    "                                                                 prefix_sep='_', drop_first=True)], axis=1)\n",
    "        \n",
    "    # Fill numeric columns with the mean\n",
    "    num_vars = data.select_dtypes(include=['float', 'int']).columns\n",
    "    for col in num_vars:\n",
    "        data[col].fillna((data[col].mean()), inplace=True)\n",
    "    \n",
    "    return data, y"
   ]
  },
  {
   "cell_type": "markdown",
   "metadata": {},
   "source": [
    "## Modeling Data"
   ]
  },
  {
   "cell_type": "code",
   "execution_count": 33,
   "metadata": {},
   "outputs": [],
   "source": [
    "def plot_pie(labels, sizes, explode):\n",
    "    '''Plot pie chart\n",
    "    \n",
    "    INPUT:\n",
    "    labels - labels for wedges\n",
    "    sizes - wedge sizes\n",
    "    explode - specifies the fraction of the radius with which to offset each wedge\n",
    "    '''\n",
    "    fig1, ax1 = plt.subplots()\n",
    "    \n",
    "    ax1.pie(sizes, explode=explode, labels=labels, autopct='%1.1f%%',\n",
    "            shadow=True, startangle=90)\n",
    "    ax1.axis('equal')  # Equal aspect ratio ensures that pie is drawn as a circle.\n",
    "\n",
    "    plt.show() "
   ]
  },
  {
   "cell_type": "markdown",
   "metadata": {},
   "source": [
    "### Overview Vaccination Manufacterers"
   ]
  },
  {
   "cell_type": "code",
   "execution_count": 34,
   "metadata": {},
   "outputs": [
    {
     "data": {
      "image/png": "[encoded data removed]",
      "text/plain": [
       "<Figure size 432x288 with 1 Axes>"
      ]
     },
     "metadata": {
      "needs_background": "light"
     },
     "output_type": "display_data"
    }
   ],
   "source": [
    "ax = covid_vax[\"VAX_MANU\"].value_counts().plot(kind='bar')\n",
    "t = ax.set_xticklabels(ax.get_xticklabels(), rotation=45, horizontalalignment='right')\n",
    "ax.set_title(\"Vaccination Manufacterers\")\n",
    "plt.show()"
   ]
  },
  {
   "cell_type": "markdown",
   "metadata": {},
   "source": [
    "### Overview Data from States"
   ]
  },
  {
   "cell_type": "code",
   "execution_count": 35,
   "metadata": {},
   "outputs": [
    {
     "data": {
      "image/png": "[encoded data removed]",
      "text/plain": [
       "<Figure size 432x288 with 1 Axes>"
      ]
     },
     "metadata": {
      "needs_background": "light"
     },
     "output_type": "display_data"
    }
   ],
   "source": [
    "ax = covid_patients[\"STATE\"].value_counts()[:15].plot(kind='bar')\n",
    "t = ax.set_xticklabels(ax.get_xticklabels(), rotation=45, horizontalalignment='right')\n",
    "ax.set_title(\"15 States with most data entries\")\n",
    "plt.show()"
   ]
  },
  {
   "cell_type": "markdown",
   "metadata": {},
   "source": [
    "### Overview Age of the Patients"
   ]
  },
  {
   "cell_type": "code",
   "execution_count": 36,
   "metadata": {},
   "outputs": [
    {
     "data": {
      "text/plain": [
       "count    2284.000000\n",
       "mean       54.781594\n",
       "std        19.993174\n",
       "min         1.080000\n",
       "25%        39.000000\n",
       "50%        52.000000\n",
       "75%        70.000000\n",
       "max       105.000000\n",
       "Name: AGE_YRS, dtype: float64"
      ]
     },
     "execution_count": 36,
     "metadata": {},
     "output_type": "execute_result"
    }
   ],
   "source": [
    "covid_patients[\"AGE_YRS\"].describe()"
   ]
  },
  {
   "cell_type": "code",
   "execution_count": 37,
   "metadata": {},
   "outputs": [
    {
     "data": {
      "image/png": "[encoded data removed]",
      "text/plain": [
       "<Figure size 432x288 with 1 Axes>"
      ]
     },
     "metadata": {
      "needs_background": "light"
     },
     "output_type": "display_data"
    }
   ],
   "source": [
    "ax = covid_patients[\"AGE_YRS\"].plot(kind='hist', bins=20)\n",
    "ax.set_title(\"Distribution of Age\")\n",
    "plt.show()"
   ]
  },
  {
   "cell_type": "markdown",
   "metadata": {},
   "source": [
    "The side effects seem to occur most often for patients roughly between 40 and 60."
   ]
  },
  {
   "cell_type": "markdown",
   "metadata": {},
   "source": [
    "### Question 1: What are the most common side effects (symptoms)?"
   ]
  },
  {
   "cell_type": "markdown",
   "metadata": {},
   "source": [
    "#### Description of Symptoms Dataset\n",
    "The fields described in this table provide the adverse event coded terms utilizing the\n",
    "MedDRA dictionary. Coders will search for specific terms in Items 18 and 19 in\n",
    "VAERS 2 form or Boxes 7 and 12 on the VAERS 1 form and code them to a\n",
    "searchable and consistent MedDRA term; note that terms are included in the .csv file\n",
    "in alphabetical order. There can be an unlimited amount of coded terms for a given\n",
    "event. Each row in the .csv will contain up to 5 MedDRA terms per VAERS ID; thus,\n",
    "there could be multiple rows per VAERS ID. For each of the VAERS_ID’s listed in the\n",
    "VAERSDATA.CSV table, there is a matching record in this file, identified by\n",
    "VAERS_ID."
   ]
  },
  {
   "cell_type": "code",
   "execution_count": 38,
   "metadata": {},
   "outputs": [
    {
     "data": {
      "image/png": "[encoded data removed]",
      "text/plain": [
       "<Figure size 432x288 with 1 Axes>"
      ]
     },
     "metadata": {
      "needs_background": "light"
     },
     "output_type": "display_data"
    }
   ],
   "source": [
    "# Out of all symptoms, which ones occur the most?\n",
    "symptom_values = covid_symptoms[\"SYMPTOM\"].value_counts()\n",
    "ax = symptom_values[:15].plot(kind='bar')\n",
    "t = ax.set_xticklabels(ax.get_xticklabels(), rotation=45, horizontalalignment='right')\n",
    "ax.set_title(\"Which symptoms occur the most after a COVID vaccination?\")\n",
    "plt.show() "
   ]
  },
  {
   "cell_type": "markdown",
   "metadata": {},
   "source": [
    "**Observations:**\n",
    "* SARS-CoV-2 test positive is the most frequent symptom\n",
    "* death is a symptom with a high frequency\n",
    "* otherwise: mostly lighter symptoms"
   ]
  },
  {
   "cell_type": "markdown",
   "metadata": {},
   "source": [
    "### Question 2: When do these symptoms occur on average? "
   ]
  },
  {
   "cell_type": "code",
   "execution_count": 39,
   "metadata": {},
   "outputs": [
    {
     "data": {
      "text/plain": [
       "count     2390.000000\n",
       "mean        30.979498\n",
       "std        853.156696\n",
       "min          0.000000\n",
       "25%          0.000000\n",
       "50%          1.000000\n",
       "75%          5.000000\n",
       "max      36896.000000\n",
       "Name: NUMDAYS, dtype: float64"
      ]
     },
     "execution_count": 39,
     "metadata": {},
     "output_type": "execute_result"
    }
   ],
   "source": [
    "covid_patients[\"NUMDAYS\"].describe()"
   ]
  },
  {
   "cell_type": "code",
   "execution_count": 40,
   "metadata": {},
   "outputs": [
    {
     "data": {
      "text/html": [
       "<div>\n",
       "<style scoped>\n",
       "    .dataframe tbody tr th:only-of-type {\n",
       "        vertical-align: middle;\n",
       "    }\n",
       "\n",
       "    .dataframe tbody tr th {\n",
       "        vertical-align: top;\n",
       "    }\n",
       "\n",
       "    .dataframe thead th {\n",
       "        text-align: right;\n",
       "    }\n",
       "</style>\n",
       "<table border=\"1\" class=\"dataframe\">\n",
       "  <thead>\n",
       "    <tr style=\"text-align: right;\">\n",
       "      <th></th>\n",
       "      <th>ONSET_DATE</th>\n",
       "      <th>VAX_DATE</th>\n",
       "      <th>RECVDATE</th>\n",
       "    </tr>\n",
       "  </thead>\n",
       "  <tbody>\n",
       "    <tr>\n",
       "      <th>203</th>\n",
       "      <td>01/04/2021</td>\n",
       "      <td>01/02/2020</td>\n",
       "      <td>01/04/2021</td>\n",
       "    </tr>\n",
       "    <tr>\n",
       "      <th>296</th>\n",
       "      <td>12/30/2020</td>\n",
       "      <td>01/04/2020</td>\n",
       "      <td>01/04/2021</td>\n",
       "    </tr>\n",
       "    <tr>\n",
       "      <th>501</th>\n",
       "      <td>01/04/2021</td>\n",
       "      <td>01/04/2020</td>\n",
       "      <td>01/06/2021</td>\n",
       "    </tr>\n",
       "    <tr>\n",
       "      <th>978</th>\n",
       "      <td>01/05/2021</td>\n",
       "      <td>01/04/2020</td>\n",
       "      <td>01/09/2021</td>\n",
       "    </tr>\n",
       "    <tr>\n",
       "      <th>1361</th>\n",
       "      <td>12/01/2020</td>\n",
       "      <td>10/02/2020</td>\n",
       "      <td>01/13/2021</td>\n",
       "    </tr>\n",
       "    <tr>\n",
       "      <th>2051</th>\n",
       "      <td>01/01/2021</td>\n",
       "      <td>10/02/1982</td>\n",
       "      <td>01/20/2021</td>\n",
       "    </tr>\n",
       "    <tr>\n",
       "      <th>2387</th>\n",
       "      <td>01/16/2021</td>\n",
       "      <td>11/30/1983</td>\n",
       "      <td>01/22/2021</td>\n",
       "    </tr>\n",
       "    <tr>\n",
       "      <th>2725</th>\n",
       "      <td>01/23/2021</td>\n",
       "      <td>01/18/1920</td>\n",
       "      <td>01/26/2021</td>\n",
       "    </tr>\n",
       "    <tr>\n",
       "      <th>2775</th>\n",
       "      <td>01/22/2021</td>\n",
       "      <td>01/22/2020</td>\n",
       "      <td>01/26/2021</td>\n",
       "    </tr>\n",
       "  </tbody>\n",
       "</table>\n",
       "</div>"
      ],
      "text/plain": [
       "      ONSET_DATE    VAX_DATE    RECVDATE\n",
       "203   01/04/2021  01/02/2020  01/04/2021\n",
       "296   12/30/2020  01/04/2020  01/04/2021\n",
       "501   01/04/2021  01/04/2020  01/06/2021\n",
       "978   01/05/2021  01/04/2020  01/09/2021\n",
       "1361  12/01/2020  10/02/2020  01/13/2021\n",
       "2051  01/01/2021  10/02/1982  01/20/2021\n",
       "2387  01/16/2021  11/30/1983  01/22/2021\n",
       "2725  01/23/2021  01/18/1920  01/26/2021\n",
       "2775  01/22/2021  01/22/2020  01/26/2021"
      ]
     },
     "execution_count": 40,
     "metadata": {},
     "output_type": "execute_result"
    }
   ],
   "source": [
    "# Observation: some of the VAX_DATE entries are not correct, probably incorrect year\n",
    "# Exclude for this visualization but data entries could still be ok for other questions\n",
    "covid_patients[covid_patients[\"NUMDAYS\"] > 40][[\"ONSET_DATE\", \"VAX_DATE\", \"RECVDATE\"]]"
   ]
  },
  {
   "cell_type": "code",
   "execution_count": 41,
   "metadata": {},
   "outputs": [
    {
     "data": {
      "text/plain": [
       "count    2380.000000\n",
       "mean        3.228571\n",
       "std         5.042637\n",
       "min         0.000000\n",
       "25%         0.000000\n",
       "50%         1.000000\n",
       "75%         4.000000\n",
       "max        39.000000\n",
       "Name: NUMDAYS, dtype: float64"
      ]
     },
     "execution_count": 41,
     "metadata": {},
     "output_type": "execute_result"
    }
   ],
   "source": [
    "clean_part = covid_patients[covid_patients[\"NUMDAYS\"] < 40]\n",
    "clean_part[\"NUMDAYS\"].describe()"
   ]
  },
  {
   "cell_type": "markdown",
   "metadata": {},
   "source": [
    "**Observation:** On average, the symptoms occur after ca. 3 days."
   ]
  },
  {
   "cell_type": "markdown",
   "metadata": {},
   "source": [
    "### Question 3: When tested positive for Covid, what are the most common symptoms?"
   ]
  },
  {
   "cell_type": "code",
   "execution_count": 49,
   "metadata": {},
   "outputs": [
    {
     "data": {
      "image/png": "[encoded data removed]",
      "text/plain": [
       "<Figure size 432x288 with 1 Axes>"
      ]
     },
     "metadata": {
      "needs_background": "light"
     },
     "output_type": "display_data"
    }
   ],
   "source": [
    "pos = \"SARS-CoV-2 test positive\"\n",
    "cov_pos_id = patient_symp[patient_symp[\"SYMPTOM\"] == pos][\"VAERS_ID\"]\n",
    "cov_pos = patient_symp[patient_symp[\"VAERS_ID\"].isin(cov_pos_id)]\n",
    "symptom_values = cov_pos[\"SYMPTOM\"].value_counts()\n",
    "symptom_values.drop(labels=pos, inplace=True)\n",
    "ax = symptom_values[:16].plot(kind='bar')\n",
    "t = ax.set_xticklabels(ax.get_xticklabels(), rotation=45, horizontalalignment='right')\n",
    "ax.set_title(\"Which symptoms occur the most when patients are tested positive for Covid after the vaccination?\")\n",
    "plt.show() "
   ]
  },
  {
   "cell_type": "code",
   "execution_count": 65,
   "metadata": {},
   "outputs": [
    {
     "name": "stdout",
     "output_type": "stream",
     "text": [
      "36 of the patients who had a positive Covid test died.\n"
     ]
    },
    {
     "data": {
      "image/png": "[encoded data removed]",
      "text/plain": [
       "<Figure size 432x288 with 1 Axes>"
      ]
     },
     "metadata": {},
     "output_type": "display_data"
    }
   ],
   "source": [
    "cov_died = cov_pos[cov_pos[\"DIED\"] == 1]\n",
    "\n",
    "cov_died_nr = cov_died[\"VAERS_ID\"].nunique()\n",
    "all_cov = cov_pos[\"VAERS_ID\"].nunique()\n",
    "print(cov_died_nr, \"of the patients who had a positive Covid test died.\")\n",
    "\n",
    "labels = 'Died, Covid test positive', 'Covid test positive, no death'\n",
    "sizes = [cov_died_nr, (all_cov-cov_died_nr)]\n",
    "explode = (0.05, 0)\n",
    "\n",
    "plot_pie(labels, sizes, explode)"
   ]
  },
  {
   "cell_type": "markdown",
   "metadata": {},
   "source": [
    "Important: When a patient is tested positive for Covid after the vaccination, it is hard to tell whether the other symptoms are caused by the vaccination or the Covid infection."
   ]
  },
  {
   "cell_type": "markdown",
   "metadata": {},
   "source": [
    "### Question 3: How many patients were hospitalized or died? "
   ]
  },
  {
   "cell_type": "code",
   "execution_count": 42,
   "metadata": {},
   "outputs": [
    {
     "data": {
      "image/png": "[encoded data removed]",
      "text/plain": [
       "<Figure size 432x288 with 1 Axes>"
      ]
     },
     "metadata": {},
     "output_type": "display_data"
    },
    {
     "name": "stdout",
     "output_type": "stream",
     "text": [
      "920  patients were hospitalized.\n"
     ]
    },
    {
     "data": {
      "image/png": "[encoded data removed]",
      "text/plain": [
       "<Figure size 432x288 with 1 Axes>"
      ]
     },
     "metadata": {
      "needs_background": "light"
     },
     "output_type": "display_data"
    }
   ],
   "source": [
    "# Severeness of symptoms: How many patients were hospitalized?\n",
    "hospitalized = covid_patients[covid_patients[\"HOSPITAL\"] == 1]\n",
    "count_hospitalized = hospitalized[\"VAERS_ID\"].nunique()\n",
    "\n",
    "labels = 'Patients hospitalized', 'Others'\n",
    "sizes = [count_hospitalized, (covid_patients.shape[0]-count_hospitalized)]\n",
    "explode = (0.05, 0)\n",
    "plot_pie(labels, sizes, explode)\n",
    "\n",
    "print(count_hospitalized, \" patients were hospitalized.\")\n",
    "ax = hospitalized[\"HOSPDAYS\"].value_counts().plot(kind=\"bar\")\n",
    "t = ax.set_xticklabels(ax.get_xticklabels(), rotation=45, horizontalalignment='right')\n",
    "ax.set_title(\"Numbers of days the patients were hospitalized\")\n",
    "plt.show()"
   ]
  },
  {
   "cell_type": "markdown",
   "metadata": {},
   "source": [
    "Since a major proportion of the hospitalized patients stayed for 0 days, we can additionally look at ratio for hospitalized patients who stayed minimum 1 day."
   ]
  },
  {
   "cell_type": "code",
   "execution_count": 61,
   "metadata": {},
   "outputs": [
    {
     "name": "stdout",
     "output_type": "stream",
     "text": [
      "604 stayed in a hospital for >= 1 day.\n"
     ]
    },
    {
     "data": {
      "image/png": "[encoded data removed]",
      "text/plain": [
       "<Figure size 432x288 with 1 Axes>"
      ]
     },
     "metadata": {},
     "output_type": "display_data"
    }
   ],
   "source": [
    "longer_hospitalized = hospitalized[hospitalized[\"HOSPDAYS\"] > 0]\n",
    "count_lhospitalized = longer_hospitalized[\"VAERS_ID\"].nunique()\n",
    "print(count_lhospitalized, \"stayed in a hospital for >= 1 day.\")\n",
    "\n",
    "labels = 'Patients hospitalized >= 1 day', 'Others'\n",
    "sizes = [count_lhospitalized, (covid_patients.shape[0]-count_lhospitalized)]\n",
    "explode = (0.05, 0)\n",
    "plot_pie(labels, sizes, explode)"
   ]
  },
  {
   "cell_type": "code",
   "execution_count": 62,
   "metadata": {},
   "outputs": [
    {
     "name": "stdout",
     "output_type": "stream",
     "text": [
      "437 patients died after vaccination.\n"
     ]
    },
    {
     "data": {
      "image/png": "[encoded data removed]",
      "text/plain": [
       "<Figure size 432x288 with 1 Axes>"
      ]
     },
     "metadata": {},
     "output_type": "display_data"
    }
   ],
   "source": [
    "# What is the risk of death?\n",
    "died = covid_patients[covid_patients[\"DIED\"] == 1]\n",
    "persons_died = died.shape[0]\n",
    "print(persons_died, \"patients died after vaccination.\")\n",
    "death_ratio = persons_died / covid_patients.shape[0]\n",
    "\n",
    "labels = 'Patients died after vaccination', 'Others'\n",
    "sizes = [persons_died, (covid_patients.shape[0]-persons_died)]\n",
    "explode = (0.05, 0)\n",
    "\n",
    "plot_pie(labels, sizes, explode)"
   ]
  },
  {
   "cell_type": "markdown",
   "metadata": {},
   "source": [
    "### Qestion 3 a): Of the patients who died, did they have a medical history / were they ill?"
   ]
  },
  {
   "cell_type": "code",
   "execution_count": 63,
   "metadata": {},
   "outputs": [
    {
     "name": "stdout",
     "output_type": "stream",
     "text": [
      "305\n",
      "203\n",
      "318\n",
      "Of all patients who died,  72.77% (318 patients) had a history of illness or were ill at the time of vaccination.\n"
     ]
    },
    {
     "data": {
      "image/png": "[encoded data removed]",
      "text/plain": [
       "<Figure size 432x288 with 1 Axes>"
      ]
     },
     "metadata": {},
     "output_type": "display_data"
    }
   ],
   "source": [
    "# Of the patients that died, how many had a history of illness?\n",
    "illness = died[died[\"HISTORY\"].notnull()][\"VAERS_ID\"]\n",
    "illness = illness.append(died[died[\"CUR_ILL\"].notnull()][\"VAERS_ID\"])\n",
    "illness_nr = illness.nunique()\n",
    "\n",
    "ratio_illness_death = illness_nr / died.shape[0] * 100\n",
    "print(\"Of all patients who died, \", \n",
    "      \"{:.2f}% ({} patients) had a history of illness or were ill at the time of vaccination.\".format(ratio_illness_death, illness_nr)) \n",
    "\n",
    "\n",
    "labels = 'History of illness or current illness', 'No previous illness known'\n",
    "sizes = [illness_nr, (died.shape[0]-illness_nr)]\n",
    "explode = (0.05, 0)\n",
    "\n",
    "plot_pie(labels, sizes, explode)"
   ]
  },
  {
   "cell_type": "markdown",
   "metadata": {},
   "source": []
  },
  {
   "cell_type": "code",
   "execution_count": 64,
   "metadata": {},
   "outputs": [
    {
     "name": "stdout",
     "output_type": "stream",
     "text": [
      "165 of the patients who died after vaccination had known allergies.\n"
     ]
    },
    {
     "data": {
      "image/png": "[encoded data removed]",
      "text/plain": [
       "<Figure size 432x288 with 1 Axes>"
      ]
     },
     "metadata": {},
     "output_type": "display_data"
    }
   ],
   "source": [
    "# Do certain allgergies lead to side effects or death?\n",
    "\n",
    "allergies = died[died[\"ALLERGIES\"].notnull()][\"VAERS_ID\"]\n",
    "ratio_allergies_death = allergies.nunique() / died.shape[0] * 100\n",
    "\n",
    "allergies_nr = allergies.nunique()\n",
    "print(allergies_nr, \"of the patients who died after vaccination had known allergies.\")\n",
    "\n",
    "\n",
    "labels = 'Allergies', 'No known allergies'\n",
    "sizes = [allergies_nr, (died.shape[0]-allergies_nr)]\n",
    "explode = (0.05, 0)\n",
    "\n",
    "plot_pie(labels, sizes, explode)"
   ]
  },
  {
   "cell_type": "markdown",
   "metadata": {},
   "source": [
    "### Question 3 b): How old were the patients who died after the vaccination?"
   ]
  },
  {
   "cell_type": "code",
   "execution_count": 47,
   "metadata": {},
   "outputs": [
    {
     "data": {
      "text/plain": [
       "count    411.000000\n",
       "mean      76.421119\n",
       "std       14.712540\n",
       "min        1.080000\n",
       "25%       66.500000\n",
       "50%       79.000000\n",
       "75%       88.000000\n",
       "max      105.000000\n",
       "Name: AGE_YRS, dtype: float64"
      ]
     },
     "execution_count": 47,
     "metadata": {},
     "output_type": "execute_result"
    }
   ],
   "source": [
    "died[\"AGE_YRS\"].describe()"
   ]
  },
  {
   "cell_type": "code",
   "execution_count": 48,
   "metadata": {},
   "outputs": [
    {
     "data": {
      "image/png": "[encoded data removed]",
      "text/plain": [
       "<Figure size 432x288 with 1 Axes>"
      ]
     },
     "metadata": {
      "needs_background": "light"
     },
     "output_type": "display_data"
    }
   ],
   "source": [
    "ax = died[\"AGE_YRS\"].plot(kind='hist', bins=20)\n",
    "ax.set_title(\"Age Distribution for patients that died\")\n",
    "plt.show()"
   ]
  },
  {
   "cell_type": "markdown",
   "metadata": {},
   "source": [
    "**Observation:** \n",
    "Higher mean age than our mean age in the complete dataset (which is at 54). "
   ]
  },
  {
   "cell_type": "markdown",
   "metadata": {},
   "source": [
    "### Question 5: Can we predict the hospitalization of a patient based on the data?"
   ]
  },
  {
   "cell_type": "markdown",
   "metadata": {},
   "source": [
    "#### Dataset Cleaning for Prediction Task"
   ]
  },
  {
   "cell_type": "code",
   "execution_count": 51,
   "metadata": {},
   "outputs": [],
   "source": [
    "# Preparation for Data Cleaning\n",
    "# exclude symptoms with occurence < 20\n",
    "symp_counts = pt_symp_vax[\"SYMPTOM\"].value_counts()\n",
    "pt_symp_vax = pt_symp_vax.loc[pt_symp_vax[\"SYMPTOM\"].isin(symp_counts.index[symp_counts >= 20])]"
   ]
  },
  {
   "cell_type": "code",
   "execution_count": 52,
   "metadata": {},
   "outputs": [],
   "source": [
    "# clean NUMDAYS: take only the ones with day difference < 40\n",
    "pt_symp_vax = pt_symp_vax[pt_symp_vax[\"NUMDAYS\"] < 40]"
   ]
  },
  {
   "cell_type": "code",
   "execution_count": 53,
   "metadata": {},
   "outputs": [
    {
     "name": "stdout",
     "output_type": "stream",
     "text": [
      "Shapes match\n"
     ]
    }
   ],
   "source": [
    "x_cols = [\"VAERS_ID\", \"AGE_YRS\", \"SEX\", \"SYMPTOM\", \"ER_ED_VISIT\", \"NUMDAYS\", \"VAX_MANU\"]\n",
    "y_col = \"HOSPITAL\"\n",
    "data, y = clean_data(pt_symp_vax, x_cols, y_col)"
   ]
  },
  {
   "cell_type": "markdown",
   "metadata": {},
   "source": [
    "#### Data Modeling"
   ]
  },
  {
   "cell_type": "code",
   "execution_count": 57,
   "metadata": {},
   "outputs": [],
   "source": [
    "def train_test_classifier(X, y, model, model_name):\n",
    "    ''' Split dataset into train and test, \n",
    "    train the model, predict and print the accuracy score\n",
    "    \n",
    "    INPUT: \n",
    "    X - pandas dataframe dataset to predict from\n",
    "    y - pandas series labels\n",
    "    model - classification model (initialized)\n",
    "    model_name - name of model as string\n",
    "    '''\n",
    "    # Split data into train and test dataset\n",
    "    X_train, X_test, y_train, y_test = train_test_split(data, y, test_size = .35, random_state=42)\n",
    "    \n",
    "    # Fit model\n",
    "    model.fit(X_train, y_train)\n",
    "    length_y_test = len(y_test) #num in y_test\n",
    "    length_y_train = len(y_train) #num in y_train\n",
    "    \n",
    "    # Calculate score\n",
    "    train_score = model.score(X_train, y_train)\n",
    "    test_score = model.score(X_test, y_test)\n",
    "    \n",
    "    print(\"Training Accuracy Score for the model {} was {} on {} values.\".format(model_name, train_score, length_y_train))\n",
    "    print(\"Test Accuracy Score for the model {} was {} on {} values.\".format(model_name, test_score, length_y_test))"
   ]
  },
  {
   "cell_type": "code",
   "execution_count": 58,
   "metadata": {},
   "outputs": [
    {
     "name": "stdout",
     "output_type": "stream",
     "text": [
      "Training Accuracy Score for the model Logistic Regression was 0.5508637236084453 on 6252 values.\n",
      "Test Accuracy Score for the model Logistic Regression was 0.5527175527175527 on 3367 values.\n"
     ]
    }
   ],
   "source": [
    "lr_model = LogisticRegression(random_state=0, solver='lbfgs')\n",
    "train_test_classifier(data, y, lr_model, \"Logistic Regression\")"
   ]
  },
  {
   "cell_type": "code",
   "execution_count": 59,
   "metadata": {},
   "outputs": [
    {
     "name": "stdout",
     "output_type": "stream",
     "text": [
      "Training Accuracy Score for the model Random Forest Classifier was 0.6641074856046065 on 6252 values.\n",
      "Test Accuracy Score for the model Random Forest Classifier was 0.6554796554796555 on 3367 values.\n"
     ]
    },
    {
     "name": "stderr",
     "output_type": "stream",
     "text": [
      "c:\\users\\z0007021\\appdata\\local\\continuum\\anaconda3\\envs\\anodet\\lib\\site-packages\\sklearn\\ensemble\\forest.py:245: FutureWarning: The default value of n_estimators will change from 10 in version 0.20 to 100 in 0.22.\n",
      "  \"10 in version 0.20 to 100 in 0.22.\", FutureWarning)\n"
     ]
    }
   ],
   "source": [
    "rf_model = RandomForestClassifier(max_depth=2, random_state=0)\n",
    "train_test_classifier(data, y, rf_model, \"Random Forest Classifier\")"
   ]
  },
  {
   "cell_type": "code",
   "execution_count": 60,
   "metadata": {},
   "outputs": [
    {
     "name": "stdout",
     "output_type": "stream",
     "text": [
      "Training Accuracy Score for the model Gradient Boosting Classifier was 0.763275751759437 on 6252 values.\n",
      "Test Accuracy Score for the model Gradient Boosting Classifier was 0.7463617463617463 on 3367 values.\n"
     ]
    }
   ],
   "source": [
    "gb_model = GradientBoostingClassifier(n_estimators=100, learning_rate=1.0, \n",
    "                                      max_depth=1, random_state=0)\n",
    "train_test_classifier(data, y, gb_model, \"Gradient Boosting Classifier\")"
   ]
  },
  {
   "cell_type": "markdown",
   "metadata": {},
   "source": [
    "**Results:** \n",
    "* no optimal prediction results\n",
    "* could improve through hyperparameter optimization, additional information (e.g. allergies), use more data"
   ]
  },
  {
   "cell_type": "markdown",
   "metadata": {},
   "source": [
    "### Results - Summary"
   ]
  },
  {
   "attachments": {},
   "cell_type": "markdown",
   "metadata": {},
   "source": [
    "**Question 1: What are the most common side effects (symptoms)?**\n",
    "* SARS-CoV-2 test positive is the most frequent symptom\n",
    "* death is a symptom with a high frequency\n",
    "* otherwise: mostly lighter symptoms\n",
    "\n",
    "**Question 2: When do these symptoms occur on average?**\n",
    "* on average, the symptoms occur after ca. 3 days\n",
    "\n",
    "**Question 3: When tested positve for Covid, what are the most common symptoms?**\n",
    "* getting COVID19\n",
    "* otherwise: mostly lighter symptoms like coughing, headache\n",
    "* Important: When a patient is tested positive for Covid after the vaccination, it is hard to tell whether the other symptoms are caused by the vaccination or the Covid infection.\n",
    "* of the patients with positive Covid test, 36 (6.3 %) died (which is lower than the general rate of death in this dataset)\n",
    "\n",
    "**Question 4: Severe symptoms - How many patients were hospitalized or died?**\n",
    "* 920 patients (32.6 %) were hospitalized, but: also stay for 0 days as entry\n",
    "* 604 patients (21.4 %) stayed in a hospital for >= 1 day\n",
    "* 437 patients (15.5 %) died after vaccination\n",
    "\n",
    "**Question 5: What is the (medical) background of the patients who died?**\n",
    "* Of all patients who died, 318 patients (72.8 %) had a history of illness or were ill at the time of vaccination\n",
    "* 165 of the patients (37.8 %) who died after vaccination had known allergies\n",
    "* The mean age of the patients who died (76) is higher than the mean age in the complete dataset (which is at 54). \n",
    "\n",
    "**Question 6: Can we predict the hospitalization of a patient based on the data?**\n",
    "* after trying out a few models with the chosen features, the best model (Gradient Boosting Classifier) reaches an accuracy of 74.6 % $\\rightarrow$ not optimal, could be improved by hyperparameter optimization and adding additional information, more data (gives some sort of direction with an uncertainty)\n",
    "* maybe the transformation of the symptoms was not the best idea, a combination might give some indication\n",
    "\n"
   ]
  },
  {
   "cell_type": "code",
   "execution_count": null,
   "metadata": {},
   "outputs": [],
   "source": []
  }
 ],
 "metadata": {
  "kernelspec": {
   "display_name": "Python 3",
   "language": "python",
   "name": "python3"
  },
  "language_info": {
   "codemirror_mode": {
    "name": "ipython",
    "version": 3
   },
   "file_extension": ".py",
   "mimetype": "text/x-python",
   "name": "python",
   "nbconvert_exporter": "python",
   "pygments_lexer": "ipython3",
   "version": "3.7.7"
  }
 },
 "nbformat": 4,
 "nbformat_minor": 2
}
