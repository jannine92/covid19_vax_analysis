{
 "cells": [
  {
   "cell_type": "markdown",
   "metadata": {},
   "source": [
    "# Data Science Project: Analyze COVID-19 vaccination data"
   ]
  },
  {
   "cell_type": "markdown",
   "metadata": {},
   "source": [
    "Data Source: https://vaers.hhs.gov/data/datasets.html    \n",
    "Data Guide: https://vaers.hhs.gov/docs/VAERSDataUseGuide_November2020.pdf"
   ]
  },
  {
   "cell_type": "markdown",
   "metadata": {},
   "source": [
    "* VAERS: Vaccine Adverse Event Reporting System\n",
    "* dataset created by the Food andd Drug Administration and Centers for Disease Control and Prevention to\n",
    "receive reports about adverse events that may be associated with vaccines\n",
    "* data contains only patients with symptoms, so we don't know the overall number of vaccinated people \n",
    "* 2 forms (VAERS 1, VAERS 2) existing with slightly different fields (description in guide)\n",
    "* data is from 2021, latest date: 02/19/2021"
   ]
  },
  {
   "cell_type": "markdown",
   "metadata": {},
   "source": [
    "## Business Understanding - Questions:\n",
    "\n",
    "1. What are the most common side effects (symptoms) reported and when do they occur?\n",
    "2. Severe symptoms - How many patients had to be hospitalized or died?\n",
    "3. What is the (medical) background of the patients who died?\n",
    "4. Can we predict the hospitalization of a patient based on the data?"
   ]
  },
  {
   "cell_type": "markdown",
   "metadata": {},
   "source": [
    "## Data Understanding"
   ]
  },
  {
   "cell_type": "markdown",
   "metadata": {},
   "source": [
    "* data sets: patients data (df_patients), data about their symptoms (df_symptoms) , data about the vaccines (df_vax)\n",
    "* we can identify the patients with \"VAERS_ID\" for all data sets $\\rightarrow$ 9286 patients"
   ]
  },
  {
   "cell_type": "code",
   "execution_count": 1,
   "metadata": {},
   "outputs": [],
   "source": [
    "import numpy as np\n",
    "import pandas as pd\n",
    "import matplotlib.pyplot as plt\n",
    "import seaborn as sns\n",
    "\n",
    "\n",
    "from sklearn.linear_model import LogisticRegression\n",
    "from sklearn.ensemble import RandomForestClassifier, GradientBoostingClassifier\n",
    "from sklearn.preprocessing import StandardScaler\n",
    "from sklearn.model_selection import train_test_split\n",
    "from sklearn.metrics import balanced_accuracy_score\n",
    "\n",
    "%matplotlib inline"
   ]
  },
  {
   "cell_type": "code",
   "execution_count": 2,
   "metadata": {},
   "outputs": [],
   "source": [
    "# read in all datasets\n",
    "df_patients = pd.read_csv('./data/data_021921/2021VAERSDATA.csv', engine='python')\n",
    "df_symptoms = pd.read_csv('./data/data_021921/2021VAERSSYMPTOMS.csv')\n",
    "df_vax = pd.read_csv('./data/data_021921/2021VAERSVAX.csv')"
   ]
  },
  {
   "cell_type": "code",
   "execution_count": 3,
   "metadata": {},
   "outputs": [
    {
     "name": "stdout",
     "output_type": "stream",
     "text": [
      "(9286, 35)\n",
      "(14343, 11)\n",
      "(9442, 8)\n"
     ]
    }
   ],
   "source": [
    "print(df_patients.shape)\n",
    "print(df_symptoms.shape)\n",
    "print(df_vax.shape)"
   ]
  },
  {
   "cell_type": "code",
   "execution_count": 4,
   "metadata": {},
   "outputs": [
    {
     "name": "stdout",
     "output_type": "stream",
     "text": [
      "Index(['VAERS_ID', 'RECVDATE', 'STATE', 'AGE_YRS', 'CAGE_YR', 'CAGE_MO', 'SEX',\n",
      "       'RPT_DATE', 'SYMPTOM_TEXT', 'DIED', 'DATEDIED', 'L_THREAT', 'ER_VISIT',\n",
      "       'HOSPITAL', 'HOSPDAYS', 'X_STAY', 'DISABLE', 'RECOVD', 'VAX_DATE',\n",
      "       'ONSET_DATE', 'NUMDAYS', 'LAB_DATA', 'V_ADMINBY', 'V_FUNDBY',\n",
      "       'OTHER_MEDS', 'CUR_ILL', 'HISTORY', 'PRIOR_VAX', 'SPLTTYPE',\n",
      "       'FORM_VERS', 'TODAYS_DATE', 'BIRTH_DEFECT', 'OFC_VISIT', 'ER_ED_VISIT',\n",
      "       'ALLERGIES'],\n",
      "      dtype='object')\n"
     ]
    }
   ],
   "source": [
    "print(df_patients.columns)"
   ]
  },
  {
   "cell_type": "code",
   "execution_count": 5,
   "metadata": {},
   "outputs": [
    {
     "name": "stdout",
     "output_type": "stream",
     "text": [
      "Index(['VAERS_ID', 'SYMPTOM1', 'SYMPTOMVERSION1', 'SYMPTOM2',\n",
      "       'SYMPTOMVERSION2', 'SYMPTOM3', 'SYMPTOMVERSION3', 'SYMPTOM4',\n",
      "       'SYMPTOMVERSION4', 'SYMPTOM5', 'SYMPTOMVERSION5'],\n",
      "      dtype='object')\n"
     ]
    }
   ],
   "source": [
    "print(df_symptoms.columns)"
   ]
  },
  {
   "cell_type": "code",
   "execution_count": 6,
   "metadata": {},
   "outputs": [
    {
     "name": "stdout",
     "output_type": "stream",
     "text": [
      "Index(['VAERS_ID', 'VAX_TYPE', 'VAX_MANU', 'VAX_LOT', 'VAX_DOSE_SERIES',\n",
      "       'VAX_ROUTE', 'VAX_SITE', 'VAX_NAME'],\n",
      "      dtype='object')\n"
     ]
    }
   ],
   "source": [
    "print(df_vax.columns)"
   ]
  },
  {
   "cell_type": "code",
   "execution_count": 7,
   "metadata": {},
   "outputs": [
    {
     "name": "stdout",
     "output_type": "stream",
     "text": [
      "9286\n",
      "9286\n",
      "9286\n"
     ]
    }
   ],
   "source": [
    "# check if all datasets have the same number of patients\n",
    "print(df_patients[\"VAERS_ID\"].nunique())\n",
    "print(df_symptoms[\"VAERS_ID\"].nunique())\n",
    "print(df_vax[\"VAERS_ID\"].nunique())"
   ]
  },
  {
   "cell_type": "code",
   "execution_count": 8,
   "metadata": {
    "scrolled": true
   },
   "outputs": [
    {
     "data": {
      "text/html": [
       "<div>\n",
       "<style scoped>\n",
       "    .dataframe tbody tr th:only-of-type {\n",
       "        vertical-align: middle;\n",
       "    }\n",
       "\n",
       "    .dataframe tbody tr th {\n",
       "        vertical-align: top;\n",
       "    }\n",
       "\n",
       "    .dataframe thead th {\n",
       "        text-align: right;\n",
       "    }\n",
       "</style>\n",
       "<table border=\"1\" class=\"dataframe\">\n",
       "  <thead>\n",
       "    <tr style=\"text-align: right;\">\n",
       "      <th></th>\n",
       "      <th>VAERS_ID</th>\n",
       "      <th>RECVDATE</th>\n",
       "      <th>STATE</th>\n",
       "      <th>AGE_YRS</th>\n",
       "      <th>CAGE_YR</th>\n",
       "      <th>CAGE_MO</th>\n",
       "      <th>SEX</th>\n",
       "      <th>RPT_DATE</th>\n",
       "      <th>SYMPTOM_TEXT</th>\n",
       "      <th>DIED</th>\n",
       "      <th>...</th>\n",
       "      <th>CUR_ILL</th>\n",
       "      <th>HISTORY</th>\n",
       "      <th>PRIOR_VAX</th>\n",
       "      <th>SPLTTYPE</th>\n",
       "      <th>FORM_VERS</th>\n",
       "      <th>TODAYS_DATE</th>\n",
       "      <th>BIRTH_DEFECT</th>\n",
       "      <th>OFC_VISIT</th>\n",
       "      <th>ER_ED_VISIT</th>\n",
       "      <th>ALLERGIES</th>\n",
       "    </tr>\n",
       "  </thead>\n",
       "  <tbody>\n",
       "    <tr>\n",
       "      <th>0</th>\n",
       "      <td>916600</td>\n",
       "      <td>01/01/2021</td>\n",
       "      <td>TX</td>\n",
       "      <td>33.0</td>\n",
       "      <td>33.0</td>\n",
       "      <td>NaN</td>\n",
       "      <td>F</td>\n",
       "      <td>NaN</td>\n",
       "      <td>Right side of epiglottis swelled up and hinder...</td>\n",
       "      <td>NaN</td>\n",
       "      <td>...</td>\n",
       "      <td>None</td>\n",
       "      <td>None</td>\n",
       "      <td>NaN</td>\n",
       "      <td>NaN</td>\n",
       "      <td>2</td>\n",
       "      <td>01/01/2021</td>\n",
       "      <td>NaN</td>\n",
       "      <td>Y</td>\n",
       "      <td>NaN</td>\n",
       "      <td>Pcn and bee venom</td>\n",
       "    </tr>\n",
       "    <tr>\n",
       "      <th>1</th>\n",
       "      <td>916601</td>\n",
       "      <td>01/01/2021</td>\n",
       "      <td>CA</td>\n",
       "      <td>73.0</td>\n",
       "      <td>73.0</td>\n",
       "      <td>NaN</td>\n",
       "      <td>F</td>\n",
       "      <td>NaN</td>\n",
       "      <td>Approximately 30 min post vaccination administ...</td>\n",
       "      <td>NaN</td>\n",
       "      <td>...</td>\n",
       "      <td>Patient residing at nursing facility. See pati...</td>\n",
       "      <td>Patient residing at nursing facility. See pati...</td>\n",
       "      <td>NaN</td>\n",
       "      <td>NaN</td>\n",
       "      <td>2</td>\n",
       "      <td>01/01/2021</td>\n",
       "      <td>NaN</td>\n",
       "      <td>Y</td>\n",
       "      <td>NaN</td>\n",
       "      <td>\"Dairy\"</td>\n",
       "    </tr>\n",
       "    <tr>\n",
       "      <th>2</th>\n",
       "      <td>916602</td>\n",
       "      <td>01/01/2021</td>\n",
       "      <td>WA</td>\n",
       "      <td>23.0</td>\n",
       "      <td>23.0</td>\n",
       "      <td>NaN</td>\n",
       "      <td>F</td>\n",
       "      <td>NaN</td>\n",
       "      <td>About 15 minutes after receiving the vaccine, ...</td>\n",
       "      <td>NaN</td>\n",
       "      <td>...</td>\n",
       "      <td>None</td>\n",
       "      <td>None</td>\n",
       "      <td>NaN</td>\n",
       "      <td>NaN</td>\n",
       "      <td>2</td>\n",
       "      <td>01/01/2021</td>\n",
       "      <td>NaN</td>\n",
       "      <td>NaN</td>\n",
       "      <td>Y</td>\n",
       "      <td>Shellfish</td>\n",
       "    </tr>\n",
       "    <tr>\n",
       "      <th>3</th>\n",
       "      <td>916603</td>\n",
       "      <td>01/01/2021</td>\n",
       "      <td>WA</td>\n",
       "      <td>58.0</td>\n",
       "      <td>58.0</td>\n",
       "      <td>NaN</td>\n",
       "      <td>F</td>\n",
       "      <td>NaN</td>\n",
       "      <td>extreme fatigue, dizziness,. could not lift my...</td>\n",
       "      <td>NaN</td>\n",
       "      <td>...</td>\n",
       "      <td>kidney infection</td>\n",
       "      <td>diverticulitis, mitral valve prolapse, osteoar...</td>\n",
       "      <td>got measles from measel shot, mums from mumps ...</td>\n",
       "      <td>NaN</td>\n",
       "      <td>2</td>\n",
       "      <td>01/01/2021</td>\n",
       "      <td>NaN</td>\n",
       "      <td>NaN</td>\n",
       "      <td>NaN</td>\n",
       "      <td>Diclofenac, novacaine, lidocaine, pickles, tom...</td>\n",
       "    </tr>\n",
       "    <tr>\n",
       "      <th>4</th>\n",
       "      <td>916604</td>\n",
       "      <td>01/01/2021</td>\n",
       "      <td>TX</td>\n",
       "      <td>47.0</td>\n",
       "      <td>47.0</td>\n",
       "      <td>NaN</td>\n",
       "      <td>F</td>\n",
       "      <td>NaN</td>\n",
       "      <td>Injection site swelling, redness, warm to the ...</td>\n",
       "      <td>NaN</td>\n",
       "      <td>...</td>\n",
       "      <td>Na</td>\n",
       "      <td>NaN</td>\n",
       "      <td>NaN</td>\n",
       "      <td>NaN</td>\n",
       "      <td>2</td>\n",
       "      <td>01/01/2021</td>\n",
       "      <td>NaN</td>\n",
       "      <td>NaN</td>\n",
       "      <td>NaN</td>\n",
       "      <td>Na</td>\n",
       "    </tr>\n",
       "  </tbody>\n",
       "</table>\n",
       "<p>5 rows × 35 columns</p>\n",
       "</div>"
      ],
      "text/plain": [
       "   VAERS_ID    RECVDATE STATE  AGE_YRS  CAGE_YR  CAGE_MO SEX RPT_DATE  \\\n",
       "0    916600  01/01/2021    TX     33.0     33.0      NaN   F      NaN   \n",
       "1    916601  01/01/2021    CA     73.0     73.0      NaN   F      NaN   \n",
       "2    916602  01/01/2021    WA     23.0     23.0      NaN   F      NaN   \n",
       "3    916603  01/01/2021    WA     58.0     58.0      NaN   F      NaN   \n",
       "4    916604  01/01/2021    TX     47.0     47.0      NaN   F      NaN   \n",
       "\n",
       "                                        SYMPTOM_TEXT DIED  ...  \\\n",
       "0  Right side of epiglottis swelled up and hinder...  NaN  ...   \n",
       "1  Approximately 30 min post vaccination administ...  NaN  ...   \n",
       "2  About 15 minutes after receiving the vaccine, ...  NaN  ...   \n",
       "3  extreme fatigue, dizziness,. could not lift my...  NaN  ...   \n",
       "4  Injection site swelling, redness, warm to the ...  NaN  ...   \n",
       "\n",
       "                                             CUR_ILL  \\\n",
       "0                                               None   \n",
       "1  Patient residing at nursing facility. See pati...   \n",
       "2                                               None   \n",
       "3                                   kidney infection   \n",
       "4                                                 Na   \n",
       "\n",
       "                                             HISTORY  \\\n",
       "0                                               None   \n",
       "1  Patient residing at nursing facility. See pati...   \n",
       "2                                               None   \n",
       "3  diverticulitis, mitral valve prolapse, osteoar...   \n",
       "4                                                NaN   \n",
       "\n",
       "                                           PRIOR_VAX SPLTTYPE  FORM_VERS  \\\n",
       "0                                                NaN      NaN          2   \n",
       "1                                                NaN      NaN          2   \n",
       "2                                                NaN      NaN          2   \n",
       "3  got measles from measel shot, mums from mumps ...      NaN          2   \n",
       "4                                                NaN      NaN          2   \n",
       "\n",
       "  TODAYS_DATE BIRTH_DEFECT OFC_VISIT ER_ED_VISIT  \\\n",
       "0  01/01/2021          NaN         Y         NaN   \n",
       "1  01/01/2021          NaN         Y         NaN   \n",
       "2  01/01/2021          NaN       NaN           Y   \n",
       "3  01/01/2021          NaN       NaN         NaN   \n",
       "4  01/01/2021          NaN       NaN         NaN   \n",
       "\n",
       "                                           ALLERGIES  \n",
       "0                                  Pcn and bee venom  \n",
       "1                                            \"Dairy\"  \n",
       "2                                          Shellfish  \n",
       "3  Diclofenac, novacaine, lidocaine, pickles, tom...  \n",
       "4                                                 Na  \n",
       "\n",
       "[5 rows x 35 columns]"
      ]
     },
     "execution_count": 8,
     "metadata": {},
     "output_type": "execute_result"
    }
   ],
   "source": [
    "df_patients.head()"
   ]
  },
  {
   "cell_type": "code",
   "execution_count": 9,
   "metadata": {
    "scrolled": true
   },
   "outputs": [
    {
     "data": {
      "text/plain": [
       "VAERS_ID          int64\n",
       "RECVDATE         object\n",
       "STATE            object\n",
       "AGE_YRS         float64\n",
       "CAGE_YR         float64\n",
       "CAGE_MO         float64\n",
       "SEX              object\n",
       "RPT_DATE         object\n",
       "SYMPTOM_TEXT     object\n",
       "DIED             object\n",
       "DATEDIED         object\n",
       "L_THREAT         object\n",
       "ER_VISIT         object\n",
       "HOSPITAL         object\n",
       "HOSPDAYS        float64\n",
       "X_STAY           object\n",
       "DISABLE          object\n",
       "RECOVD           object\n",
       "VAX_DATE         object\n",
       "ONSET_DATE       object\n",
       "NUMDAYS         float64\n",
       "LAB_DATA         object\n",
       "V_ADMINBY        object\n",
       "V_FUNDBY         object\n",
       "OTHER_MEDS       object\n",
       "CUR_ILL          object\n",
       "HISTORY          object\n",
       "PRIOR_VAX        object\n",
       "SPLTTYPE         object\n",
       "FORM_VERS         int64\n",
       "TODAYS_DATE      object\n",
       "BIRTH_DEFECT     object\n",
       "OFC_VISIT        object\n",
       "ER_ED_VISIT      object\n",
       "ALLERGIES        object\n",
       "dtype: object"
      ]
     },
     "execution_count": 9,
     "metadata": {},
     "output_type": "execute_result"
    }
   ],
   "source": [
    "# Look at datatypes\n",
    "df_patients.dtypes"
   ]
  },
  {
   "cell_type": "code",
   "execution_count": 10,
   "metadata": {},
   "outputs": [
    {
     "data": {
      "text/html": [
       "<div>\n",
       "<style scoped>\n",
       "    .dataframe tbody tr th:only-of-type {\n",
       "        vertical-align: middle;\n",
       "    }\n",
       "\n",
       "    .dataframe tbody tr th {\n",
       "        vertical-align: top;\n",
       "    }\n",
       "\n",
       "    .dataframe thead th {\n",
       "        text-align: right;\n",
       "    }\n",
       "</style>\n",
       "<table border=\"1\" class=\"dataframe\">\n",
       "  <thead>\n",
       "    <tr style=\"text-align: right;\">\n",
       "      <th></th>\n",
       "      <th>VAERS_ID</th>\n",
       "      <th>SYMPTOM1</th>\n",
       "      <th>SYMPTOMVERSION1</th>\n",
       "      <th>SYMPTOM2</th>\n",
       "      <th>SYMPTOMVERSION2</th>\n",
       "      <th>SYMPTOM3</th>\n",
       "      <th>SYMPTOMVERSION3</th>\n",
       "      <th>SYMPTOM4</th>\n",
       "      <th>SYMPTOMVERSION4</th>\n",
       "      <th>SYMPTOM5</th>\n",
       "      <th>SYMPTOMVERSION5</th>\n",
       "    </tr>\n",
       "  </thead>\n",
       "  <tbody>\n",
       "    <tr>\n",
       "      <th>0</th>\n",
       "      <td>916600</td>\n",
       "      <td>Dysphagia</td>\n",
       "      <td>23.1</td>\n",
       "      <td>Epiglottitis</td>\n",
       "      <td>23.1</td>\n",
       "      <td>NaN</td>\n",
       "      <td>NaN</td>\n",
       "      <td>NaN</td>\n",
       "      <td>NaN</td>\n",
       "      <td>NaN</td>\n",
       "      <td>NaN</td>\n",
       "    </tr>\n",
       "    <tr>\n",
       "      <th>1</th>\n",
       "      <td>916601</td>\n",
       "      <td>Anxiety</td>\n",
       "      <td>23.1</td>\n",
       "      <td>Dyspnoea</td>\n",
       "      <td>23.1</td>\n",
       "      <td>NaN</td>\n",
       "      <td>NaN</td>\n",
       "      <td>NaN</td>\n",
       "      <td>NaN</td>\n",
       "      <td>NaN</td>\n",
       "      <td>NaN</td>\n",
       "    </tr>\n",
       "    <tr>\n",
       "      <th>2</th>\n",
       "      <td>916602</td>\n",
       "      <td>Chest discomfort</td>\n",
       "      <td>23.1</td>\n",
       "      <td>Dysphagia</td>\n",
       "      <td>23.1</td>\n",
       "      <td>Pain in extremity</td>\n",
       "      <td>23.1</td>\n",
       "      <td>Visual impairment</td>\n",
       "      <td>23.1</td>\n",
       "      <td>NaN</td>\n",
       "      <td>NaN</td>\n",
       "    </tr>\n",
       "    <tr>\n",
       "      <th>3</th>\n",
       "      <td>916603</td>\n",
       "      <td>Dizziness</td>\n",
       "      <td>23.1</td>\n",
       "      <td>Fatigue</td>\n",
       "      <td>23.1</td>\n",
       "      <td>Mobility decreased</td>\n",
       "      <td>23.1</td>\n",
       "      <td>NaN</td>\n",
       "      <td>NaN</td>\n",
       "      <td>NaN</td>\n",
       "      <td>NaN</td>\n",
       "    </tr>\n",
       "    <tr>\n",
       "      <th>4</th>\n",
       "      <td>916604</td>\n",
       "      <td>Injection site erythema</td>\n",
       "      <td>23.1</td>\n",
       "      <td>Injection site pruritus</td>\n",
       "      <td>23.1</td>\n",
       "      <td>Injection site swelling</td>\n",
       "      <td>23.1</td>\n",
       "      <td>Injection site warmth</td>\n",
       "      <td>23.1</td>\n",
       "      <td>NaN</td>\n",
       "      <td>NaN</td>\n",
       "    </tr>\n",
       "  </tbody>\n",
       "</table>\n",
       "</div>"
      ],
      "text/plain": [
       "   VAERS_ID                 SYMPTOM1  SYMPTOMVERSION1  \\\n",
       "0    916600                Dysphagia             23.1   \n",
       "1    916601                  Anxiety             23.1   \n",
       "2    916602         Chest discomfort             23.1   \n",
       "3    916603                Dizziness             23.1   \n",
       "4    916604  Injection site erythema             23.1   \n",
       "\n",
       "                  SYMPTOM2  SYMPTOMVERSION2                 SYMPTOM3  \\\n",
       "0             Epiglottitis             23.1                      NaN   \n",
       "1                 Dyspnoea             23.1                      NaN   \n",
       "2                Dysphagia             23.1        Pain in extremity   \n",
       "3                  Fatigue             23.1       Mobility decreased   \n",
       "4  Injection site pruritus             23.1  Injection site swelling   \n",
       "\n",
       "   SYMPTOMVERSION3               SYMPTOM4  SYMPTOMVERSION4 SYMPTOM5  \\\n",
       "0              NaN                    NaN              NaN      NaN   \n",
       "1              NaN                    NaN              NaN      NaN   \n",
       "2             23.1      Visual impairment             23.1      NaN   \n",
       "3             23.1                    NaN              NaN      NaN   \n",
       "4             23.1  Injection site warmth             23.1      NaN   \n",
       "\n",
       "   SYMPTOMVERSION5  \n",
       "0              NaN  \n",
       "1              NaN  \n",
       "2              NaN  \n",
       "3              NaN  \n",
       "4              NaN  "
      ]
     },
     "execution_count": 10,
     "metadata": {},
     "output_type": "execute_result"
    }
   ],
   "source": [
    "df_symptoms.head()"
   ]
  },
  {
   "cell_type": "code",
   "execution_count": 11,
   "metadata": {},
   "outputs": [
    {
     "data": {
      "text/html": [
       "<div>\n",
       "<style scoped>\n",
       "    .dataframe tbody tr th:only-of-type {\n",
       "        vertical-align: middle;\n",
       "    }\n",
       "\n",
       "    .dataframe tbody tr th {\n",
       "        vertical-align: top;\n",
       "    }\n",
       "\n",
       "    .dataframe thead th {\n",
       "        text-align: right;\n",
       "    }\n",
       "</style>\n",
       "<table border=\"1\" class=\"dataframe\">\n",
       "  <thead>\n",
       "    <tr style=\"text-align: right;\">\n",
       "      <th></th>\n",
       "      <th>VAERS_ID</th>\n",
       "      <th>VAX_TYPE</th>\n",
       "      <th>VAX_MANU</th>\n",
       "      <th>VAX_LOT</th>\n",
       "      <th>VAX_DOSE_SERIES</th>\n",
       "      <th>VAX_ROUTE</th>\n",
       "      <th>VAX_SITE</th>\n",
       "      <th>VAX_NAME</th>\n",
       "    </tr>\n",
       "  </thead>\n",
       "  <tbody>\n",
       "    <tr>\n",
       "      <th>0</th>\n",
       "      <td>916600</td>\n",
       "      <td>COVID19</td>\n",
       "      <td>MODERNA</td>\n",
       "      <td>037K20A</td>\n",
       "      <td>1</td>\n",
       "      <td>IM</td>\n",
       "      <td>LA</td>\n",
       "      <td>COVID19 (COVID19 (MODERNA))</td>\n",
       "    </tr>\n",
       "    <tr>\n",
       "      <th>1</th>\n",
       "      <td>916601</td>\n",
       "      <td>COVID19</td>\n",
       "      <td>MODERNA</td>\n",
       "      <td>025L20A</td>\n",
       "      <td>1</td>\n",
       "      <td>IM</td>\n",
       "      <td>RA</td>\n",
       "      <td>COVID19 (COVID19 (MODERNA))</td>\n",
       "    </tr>\n",
       "    <tr>\n",
       "      <th>2</th>\n",
       "      <td>916602</td>\n",
       "      <td>COVID19</td>\n",
       "      <td>PFIZER\\BIONTECH</td>\n",
       "      <td>EL1284</td>\n",
       "      <td>1</td>\n",
       "      <td>IM</td>\n",
       "      <td>LA</td>\n",
       "      <td>COVID19 (COVID19 (PFIZER-BIONTECH))</td>\n",
       "    </tr>\n",
       "    <tr>\n",
       "      <th>3</th>\n",
       "      <td>916603</td>\n",
       "      <td>COVID19</td>\n",
       "      <td>MODERNA</td>\n",
       "      <td>unknown</td>\n",
       "      <td>UNK</td>\n",
       "      <td>NaN</td>\n",
       "      <td>NaN</td>\n",
       "      <td>COVID19 (COVID19 (MODERNA))</td>\n",
       "    </tr>\n",
       "    <tr>\n",
       "      <th>4</th>\n",
       "      <td>916604</td>\n",
       "      <td>COVID19</td>\n",
       "      <td>MODERNA</td>\n",
       "      <td>NaN</td>\n",
       "      <td>1</td>\n",
       "      <td>IM</td>\n",
       "      <td>LA</td>\n",
       "      <td>COVID19 (COVID19 (MODERNA))</td>\n",
       "    </tr>\n",
       "  </tbody>\n",
       "</table>\n",
       "</div>"
      ],
      "text/plain": [
       "   VAERS_ID VAX_TYPE         VAX_MANU  VAX_LOT VAX_DOSE_SERIES VAX_ROUTE  \\\n",
       "0    916600  COVID19          MODERNA  037K20A               1        IM   \n",
       "1    916601  COVID19          MODERNA  025L20A               1        IM   \n",
       "2    916602  COVID19  PFIZER\\BIONTECH   EL1284               1        IM   \n",
       "3    916603  COVID19          MODERNA  unknown             UNK       NaN   \n",
       "4    916604  COVID19          MODERNA      NaN               1        IM   \n",
       "\n",
       "  VAX_SITE                             VAX_NAME  \n",
       "0       LA          COVID19 (COVID19 (MODERNA))  \n",
       "1       RA          COVID19 (COVID19 (MODERNA))  \n",
       "2       LA  COVID19 (COVID19 (PFIZER-BIONTECH))  \n",
       "3      NaN          COVID19 (COVID19 (MODERNA))  \n",
       "4       LA          COVID19 (COVID19 (MODERNA))  "
      ]
     },
     "execution_count": 11,
     "metadata": {},
     "output_type": "execute_result"
    }
   ],
   "source": [
    "df_vax.head()"
   ]
  },
  {
   "cell_type": "markdown",
   "metadata": {},
   "source": [
    "## Data Preparation / Cleaning"
   ]
  },
  {
   "cell_type": "markdown",
   "metadata": {},
   "source": [
    "### General Data Cleaning"
   ]
  },
  {
   "cell_type": "code",
   "execution_count": 12,
   "metadata": {},
   "outputs": [],
   "source": [
    "def cols_all_nan(df):\n",
    "    ''' Returns columns with NaN for every row in df\n",
    "    \n",
    "    INPUT:\n",
    "    df - pandas dataframe\n",
    "    \n",
    "    OUTPUT:\n",
    "    list of column indices for all columns with all NaN values \n",
    "    '''\n",
    "    return df.columns[df.isnull().all()]"
   ]
  },
  {
   "cell_type": "code",
   "execution_count": 13,
   "metadata": {},
   "outputs": [],
   "source": [
    "def cols_with_nan(df, percentage):\n",
    "    '''Returns the column names that have more than (percentage * 100) %\n",
    "    of their values missing\n",
    "    \n",
    "    INPUT:\n",
    "    df - pandas dataframe\n",
    "    percentage - float, percentage of values missing\n",
    "\n",
    "    OUTPUT:\n",
    "    list of column indices for all columns where more than (percentage * 100) %\n",
    "    of their values are missing\n",
    "    '''\n",
    "    return df.columns[np.sum(df.isnull())/df.shape[0] > percentage]"
   ]
  },
  {
   "cell_type": "code",
   "execution_count": 14,
   "metadata": {},
   "outputs": [
    {
     "name": "stdout",
     "output_type": "stream",
     "text": [
      "Cols NaN for all rows:  Index([], dtype='object')\n",
      "Cols NaN for all rows:  Index([], dtype='object')\n",
      "Cols NaN for all rows:  Index([], dtype='object')\n"
     ]
    }
   ],
   "source": [
    "print(\"Cols NaN for all rows: \", cols_all_nan(df_patients)) \n",
    "print(\"Cols NaN for all rows: \", cols_all_nan(df_symptoms))\n",
    "print(\"Cols NaN for all rows: \", cols_all_nan(df_vax))"
   ]
  },
  {
   "cell_type": "code",
   "execution_count": 15,
   "metadata": {},
   "outputs": [
    {
     "name": "stdout",
     "output_type": "stream",
     "text": [
      "Index(['CAGE_MO', 'RPT_DATE', 'DIED', 'DATEDIED', 'L_THREAT', 'ER_VISIT',\n",
      "       'HOSPITAL', 'HOSPDAYS', 'X_STAY', 'DISABLE', 'V_FUNDBY', 'PRIOR_VAX',\n",
      "       'SPLTTYPE', 'BIRTH_DEFECT', 'OFC_VISIT', 'ER_ED_VISIT'],\n",
      "      dtype='object')\n",
      "Index(['SYMPTOM5', 'SYMPTOMVERSION5'], dtype='object')\n",
      "Index([], dtype='object')\n"
     ]
    }
   ],
   "source": [
    "print(cols_with_nan(df_patients, 0.5))\n",
    "print(cols_with_nan(df_symptoms, 0.5))\n",
    "print(cols_with_nan(df_vax, 0.5))"
   ]
  },
  {
   "cell_type": "markdown",
   "metadata": {},
   "source": [
    "#### Missing Values\n",
    "\n",
    "There are no columns where all values are NaN. However, for some of the comlumns in df_patients, 50 % or more of the values are missing. For df_symptoms, this is not critical since I will transform the dataframe later anyway.  \n",
    "\n",
    "**Strategies for handling missing values:**\n",
    "* general strategy: drop as few columns as possible\n",
    "* for the columns that have only very few entries due to being from form 1 which is barely used in our dataset, I can drop the columns \n",
    "* irrelevant column: e.g. age in months which is only calculated for babies (very few entries with babies) $\\rightarrow$ for babies, the age in years (0) is enough\n",
    "* if the columns are described in the data use guide as \"Y\" if it applies or NaN otherwise, columns can be transformed into binary columns which can be handled better\n",
    "* categorical columns (textual data): There is no easy way to handle missing values with textual data (replacing with 0 wouldn't make any sense). For the descriptive statistical analysis (Questions 1 - 3), I'll leave it as it is because the pandas methods ignore NaN values (e.g. when counting values) and I might not need all of these columns. For the prediction task (Question 4), I'll create dummy variables for the categorical variables and use the mean for missing values in numerical columns (see the \"clean_data\" method below in the section of Question 4)."
   ]
  },
  {
   "cell_type": "markdown",
   "metadata": {},
   "source": [
    "### Drop columns from Form 1 / Irrelevant Columns"
   ]
  },
  {
   "cell_type": "code",
   "execution_count": 16,
   "metadata": {},
   "outputs": [],
   "source": [
    "# column \"ER_VISIT\" is NaN for all entries except 4, for form 2 replaced by \"ER_ED_VISIT\" -> can be dropped (only few entries with form 1)\n",
    "df_patients.drop(columns=\"ER_VISIT\", inplace=True)\n",
    "\n",
    "# cage_mo: calculated age of patient in months -> only available for babies <= 2.0 years (= 8 patients, 0.2% of data) \n",
    "# -> decision: age in years is enough for now \n",
    "df_patients.drop(columns=\"CAGE_MO\", inplace=True)\n",
    "\n",
    "# column \"RPT_Date\" only available for 7 patients (= date form was completed), discontinued for form 2 -> can be dropped\n",
    "df_patients.drop(columns=\"RPT_DATE\", inplace=True)\n",
    "\n",
    "# column \"V_FUNDBY\" is VAERS1 only field, (= funds used to purchase the vaccines) -> not relevant to us, can be dropped\n",
    "df_patients.drop(columns=\"V_FUNDBY\", inplace=True)"
   ]
  },
  {
   "cell_type": "markdown",
   "metadata": {},
   "source": [
    "### Transform to Binary columns"
   ]
  },
  {
   "cell_type": "code",
   "execution_count": 17,
   "metadata": {},
   "outputs": [],
   "source": [
    "# for all columns in y_col, the values are either \"Y\" or NaN otherwise -> replace by 1 and 0\n",
    "y_cols = [\"ER_ED_VISIT\", \"DIED\", \"L_THREAT\", \"HOSPITAL\", \"X_STAY\", \"DISABLE\", \"BIRTH_DEFECT\", \"OFC_VISIT\"]\n",
    "\n",
    "for col in y_cols:\n",
    "    df_patients[col] = np.where(df_patients[col] == \"Y\", 1, 0)"
   ]
  },
  {
   "cell_type": "code",
   "execution_count": 18,
   "metadata": {},
   "outputs": [
    {
     "name": "stdout",
     "output_type": "stream",
     "text": [
      "Remaining cols with NaNs are the following: \n",
      "['DATEDIED' 'HOSPDAYS' 'PRIOR_VAX' 'SPLTTYPE']\n",
      "They are filled with text descriptions or dates, so there is no easy way to replace NaNs but they could be relevant, so for now I will try to work around.\n"
     ]
    }
   ],
   "source": [
    "print(\"Remaining cols with NaNs are the following: \")\n",
    "print(cols_with_nan(df_patients, 0.5).values)\n",
    "print(\"They are filled with text descriptions or dates, so there is no easy way to replace NaNs but they could be relevant, so for now I will try to work around.\")"
   ]
  },
  {
   "cell_type": "markdown",
   "metadata": {},
   "source": [
    "### Replace values that actually mean \"NaN\" (differs slightly for the respective columns) "
   ]
  },
  {
   "cell_type": "code",
   "execution_count": 19,
   "metadata": {},
   "outputs": [],
   "source": [
    "# for the column \"CUR_ILL\", some of the entries are \"None\" or \"No\" (as string) -> change to NaN\n",
    "df_patients[\"CUR_ILL\"].replace(\n",
    "    [\"None\", \"No\", \"NONE\", \"unknown\", \"Unknown\", \"none\", \"no\", \"None known\", \"none known\", \n",
    "     \"None reported\", \"none reported\", \"UNKNOWN\", \"N/a\", \"None stated/Denied\",\n",
    "    \"No other illness prior to vaccination or within the month prior\", \"NKDA\", \n",
    "     \"Individual was healthy prior to vaccination.\", \"None.\", \"UNK\", \"As noted above\", \"unsure\", \n",
    "     \"See item 12\", \"no acute illnesses\", \"No symptoms after COVID vaccinations\"], \n",
    "    np.nan, inplace=True)\n",
    "df_patients[\"CUR_ILL\"].replace(\"Covid 19\", \"COVID_19\", inplace=True)"
   ]
  },
  {
   "cell_type": "code",
   "execution_count": 20,
   "metadata": {},
   "outputs": [],
   "source": [
    "# for the column \"ALLERGIES\", some of the entries are \"None\" or \"No\" (as string) -> change to NaN\n",
    "df_patients[\"ALLERGIES\"].replace(\n",
    "    [\"None\", \"none\", \"NKDA\", \"NKA\", \"No known allergies\", \"unknown\", \n",
    "     \"No\", \"Unknown\", \"no\", \"NONE\", \"No Known Allergies\", \"no known allergies\",\n",
    "    \"nka\", \"None known\", \"NKA to medications\", \"No known allergies to drugs or food\"], np.nan, inplace=True)"
   ]
  },
  {
   "cell_type": "code",
   "execution_count": 21,
   "metadata": {},
   "outputs": [],
   "source": [
    "# for the column \"HISTORY\", some of the entries are \"None\" or \"No\" (as string) -> change to NaN\n",
    "df_patients[\"HISTORY\"].replace([\"None\", \"none\", \"unknown\", \"unsure\", \"Unknown\", \"no\", \n",
    "                                \"Unsure\", \"No\", \"NONE\", \"UNKNOWN\", \"N/a\", \"None known\",\n",
    "                               \"None reported\", \"none reported\", \"None stated/Denied\", \n",
    "                                \"none known\", \"Medical History/Concurrent Conditions: No adverse event (No reported medical history.)\",\n",
    "                                \"Medical History/Concurrent Conditions: No adverse event (No reported medical history)\", \"None disclosed\"\n",
    "                               ], np.nan, inplace=True)"
   ]
  },
  {
   "cell_type": "code",
   "execution_count": 22,
   "metadata": {},
   "outputs": [],
   "source": [
    "# for the column \"OTHER MEDS\", some of the entries are \"None\" or \"No\" (as string) -> change to NaN\n",
    "df_patients[\"OTHER_MEDS\"].replace([\"None\", \"none\", \"unknown\", \"Unknown\", \"no\", \"NONE\", \"UNKNOWN\", \"No\"]\n",
    "                                 , np.nan, inplace=True)"
   ]
  },
  {
   "cell_type": "code",
   "execution_count": 23,
   "metadata": {},
   "outputs": [],
   "source": [
    "# Replacing NaN value with 0 makes sense for counting of days being hospitalized\n",
    "df_patients[\"HOSPDAYS\"].replace(np.nan, 0, inplace=True)"
   ]
  },
  {
   "cell_type": "markdown",
   "metadata": {},
   "source": [
    "#### Explanation for Symptoms Text in Patients Dataset\n",
    "Reported Symptom Text (SYMPTOM_TEXT): This is the symptom text\n",
    "recorded in the form (in df_patients). MedDRA Terms are derived from this text and placed in the\n",
    "VAERSSYMPTOMS file.\n",
    "$\\rightarrow$ \"SYMPTOM_TEXT\" can be ignored, order of terms in df_symptoms are not relevant"
   ]
  },
  {
   "cell_type": "code",
   "execution_count": 24,
   "metadata": {},
   "outputs": [
    {
     "data": {
      "text/html": [
       "<div>\n",
       "<style scoped>\n",
       "    .dataframe tbody tr th:only-of-type {\n",
       "        vertical-align: middle;\n",
       "    }\n",
       "\n",
       "    .dataframe tbody tr th {\n",
       "        vertical-align: top;\n",
       "    }\n",
       "\n",
       "    .dataframe thead th {\n",
       "        text-align: right;\n",
       "    }\n",
       "</style>\n",
       "<table border=\"1\" class=\"dataframe\">\n",
       "  <thead>\n",
       "    <tr style=\"text-align: right;\">\n",
       "      <th></th>\n",
       "      <th>VAERS_ID</th>\n",
       "      <th>NUMBER</th>\n",
       "      <th>SYMPTOM</th>\n",
       "    </tr>\n",
       "  </thead>\n",
       "  <tbody>\n",
       "    <tr>\n",
       "      <th>0</th>\n",
       "      <td>916600</td>\n",
       "      <td>SYMPTOM1</td>\n",
       "      <td>Dysphagia</td>\n",
       "    </tr>\n",
       "    <tr>\n",
       "      <th>1</th>\n",
       "      <td>916601</td>\n",
       "      <td>SYMPTOM1</td>\n",
       "      <td>Anxiety</td>\n",
       "    </tr>\n",
       "    <tr>\n",
       "      <th>2</th>\n",
       "      <td>916602</td>\n",
       "      <td>SYMPTOM1</td>\n",
       "      <td>Chest discomfort</td>\n",
       "    </tr>\n",
       "    <tr>\n",
       "      <th>3</th>\n",
       "      <td>916603</td>\n",
       "      <td>SYMPTOM1</td>\n",
       "      <td>Dizziness</td>\n",
       "    </tr>\n",
       "    <tr>\n",
       "      <th>4</th>\n",
       "      <td>916604</td>\n",
       "      <td>SYMPTOM1</td>\n",
       "      <td>Injection site erythema</td>\n",
       "    </tr>\n",
       "  </tbody>\n",
       "</table>\n",
       "</div>"
      ],
      "text/plain": [
       "   VAERS_ID    NUMBER                  SYMPTOM\n",
       "0    916600  SYMPTOM1                Dysphagia\n",
       "1    916601  SYMPTOM1                  Anxiety\n",
       "2    916602  SYMPTOM1         Chest discomfort\n",
       "3    916603  SYMPTOM1                Dizziness\n",
       "4    916604  SYMPTOM1  Injection site erythema"
      ]
     },
     "execution_count": 24,
     "metadata": {},
     "output_type": "execute_result"
    }
   ],
   "source": [
    "# Transform the symptoms dataset so that there is only one column for the symptoms\n",
    "df_symptoms_m = pd.melt(df_symptoms, id_vars=['VAERS_ID'], value_vars=['SYMPTOM1', 'SYMPTOM2', \n",
    "                                                                'SYMPTOM3', 'SYMPTOM4', 'SYMPTOM5'],\n",
    "                     var_name='NUMBER', value_name='SYMPTOM')\n",
    "df_symptoms_m.dropna(subset=['SYMPTOM'], inplace=True)\n",
    "\n",
    "\n",
    "df_symptoms_m.head()"
   ]
  },
  {
   "cell_type": "code",
   "execution_count": 25,
   "metadata": {},
   "outputs": [],
   "source": [
    "# exclude symptoms that are no symptoms (found during analysis)\n",
    "no_symptoms = [\"SARS-CoV-2 test negative\", \"Computerised tomogram\", \"Exposure to SARS-CoV-2\",\n",
    "              \"Laboratory test\", \"Electrocardiogram\", \"Blood test\", \"Chest X-ray\", \n",
    "               \"Magnetic resonance imaging\", \"Full blood count\"]\n",
    "df_symptoms_m = df_symptoms_m[~df_symptoms_m[\"SYMPTOM\"].isin(no_symptoms)]"
   ]
  },
  {
   "cell_type": "code",
   "execution_count": 26,
   "metadata": {
    "scrolled": true
   },
   "outputs": [
    {
     "name": "stdout",
     "output_type": "stream",
     "text": [
      "(9286, 31)\n",
      "(48205, 3)\n",
      "(9442, 8)\n"
     ]
    }
   ],
   "source": [
    "print(df_patients.shape)\n",
    "print(df_symptoms_m.shape)\n",
    "print(df_vax.shape)"
   ]
  },
  {
   "cell_type": "markdown",
   "metadata": {},
   "source": [
    "**Observation:**  \n",
    "While for the patients dataset there is only one entry per person (9286 patients in total), it can be more than one entry (row) for the other datasets (> 1 symptom for one patient, > 1 vaccination per person).  \n",
    "I'm only interested in the COVID19 vaccinations, so I will drop the others. Since there are only 120 other vaccination entries, a comparison wouldn't work well anyway."
   ]
  },
  {
   "cell_type": "code",
   "execution_count": 27,
   "metadata": {},
   "outputs": [
    {
     "name": "stdout",
     "output_type": "stream",
     "text": [
      "# Patients with covid vaccination:  9100\n",
      "# Patients of reduced patients dataset:  (9100,)\n",
      "# Patients of reduced symptoms dataset:  (47224,)\n",
      "# Patients of reduced vax dataset:  (9208,)\n"
     ]
    }
   ],
   "source": [
    "covid_ids = df_vax[df_vax[\"VAX_TYPE\"] == \"COVID19\"][\"VAERS_ID\"].unique().tolist()\n",
    "print(\"# Patients with covid vaccination: \", len(covid_ids))\n",
    "covid_patients = df_patients[df_patients[\"VAERS_ID\"].isin(covid_ids)]\n",
    "print(\"# Patients of reduced patients dataset: \", covid_patients[\"VAERS_ID\"].shape)\n",
    "covid_symptoms = df_symptoms_m[df_symptoms_m[\"VAERS_ID\"].isin(covid_ids)]\n",
    "print(\"# Patients of reduced symptoms dataset: \", covid_symptoms[\"VAERS_ID\"].shape)\n",
    "covid_vax = df_vax[df_vax[\"VAERS_ID\"].isin(covid_ids)]\n",
    "print(\"# Patients of reduced vax dataset: \", covid_vax[\"VAERS_ID\"].shape)"
   ]
  },
  {
   "cell_type": "markdown",
   "metadata": {},
   "source": [
    "#### Create Dataset Combinations"
   ]
  },
  {
   "cell_type": "code",
   "execution_count": 28,
   "metadata": {},
   "outputs": [
    {
     "data": {
      "text/html": [
       "<div>\n",
       "<style scoped>\n",
       "    .dataframe tbody tr th:only-of-type {\n",
       "        vertical-align: middle;\n",
       "    }\n",
       "\n",
       "    .dataframe tbody tr th {\n",
       "        vertical-align: top;\n",
       "    }\n",
       "\n",
       "    .dataframe thead th {\n",
       "        text-align: right;\n",
       "    }\n",
       "</style>\n",
       "<table border=\"1\" class=\"dataframe\">\n",
       "  <thead>\n",
       "    <tr style=\"text-align: right;\">\n",
       "      <th></th>\n",
       "      <th>VAERS_ID</th>\n",
       "      <th>RECVDATE</th>\n",
       "      <th>STATE</th>\n",
       "      <th>AGE_YRS</th>\n",
       "      <th>CAGE_YR</th>\n",
       "      <th>SEX</th>\n",
       "      <th>SYMPTOM_TEXT</th>\n",
       "      <th>DIED</th>\n",
       "      <th>DATEDIED</th>\n",
       "      <th>L_THREAT</th>\n",
       "      <th>...</th>\n",
       "      <th>PRIOR_VAX</th>\n",
       "      <th>SPLTTYPE</th>\n",
       "      <th>FORM_VERS</th>\n",
       "      <th>TODAYS_DATE</th>\n",
       "      <th>BIRTH_DEFECT</th>\n",
       "      <th>OFC_VISIT</th>\n",
       "      <th>ER_ED_VISIT</th>\n",
       "      <th>ALLERGIES</th>\n",
       "      <th>NUMBER</th>\n",
       "      <th>SYMPTOM</th>\n",
       "    </tr>\n",
       "  </thead>\n",
       "  <tbody>\n",
       "    <tr>\n",
       "      <th>0</th>\n",
       "      <td>916600</td>\n",
       "      <td>01/01/2021</td>\n",
       "      <td>TX</td>\n",
       "      <td>33.0</td>\n",
       "      <td>33.0</td>\n",
       "      <td>F</td>\n",
       "      <td>Right side of epiglottis swelled up and hinder...</td>\n",
       "      <td>0</td>\n",
       "      <td>NaN</td>\n",
       "      <td>0</td>\n",
       "      <td>...</td>\n",
       "      <td>NaN</td>\n",
       "      <td>NaN</td>\n",
       "      <td>2</td>\n",
       "      <td>01/01/2021</td>\n",
       "      <td>0</td>\n",
       "      <td>1</td>\n",
       "      <td>0</td>\n",
       "      <td>Pcn and bee venom</td>\n",
       "      <td>SYMPTOM1</td>\n",
       "      <td>Dysphagia</td>\n",
       "    </tr>\n",
       "    <tr>\n",
       "      <th>1</th>\n",
       "      <td>916600</td>\n",
       "      <td>01/01/2021</td>\n",
       "      <td>TX</td>\n",
       "      <td>33.0</td>\n",
       "      <td>33.0</td>\n",
       "      <td>F</td>\n",
       "      <td>Right side of epiglottis swelled up and hinder...</td>\n",
       "      <td>0</td>\n",
       "      <td>NaN</td>\n",
       "      <td>0</td>\n",
       "      <td>...</td>\n",
       "      <td>NaN</td>\n",
       "      <td>NaN</td>\n",
       "      <td>2</td>\n",
       "      <td>01/01/2021</td>\n",
       "      <td>0</td>\n",
       "      <td>1</td>\n",
       "      <td>0</td>\n",
       "      <td>Pcn and bee venom</td>\n",
       "      <td>SYMPTOM2</td>\n",
       "      <td>Epiglottitis</td>\n",
       "    </tr>\n",
       "    <tr>\n",
       "      <th>2</th>\n",
       "      <td>916601</td>\n",
       "      <td>01/01/2021</td>\n",
       "      <td>CA</td>\n",
       "      <td>73.0</td>\n",
       "      <td>73.0</td>\n",
       "      <td>F</td>\n",
       "      <td>Approximately 30 min post vaccination administ...</td>\n",
       "      <td>0</td>\n",
       "      <td>NaN</td>\n",
       "      <td>0</td>\n",
       "      <td>...</td>\n",
       "      <td>NaN</td>\n",
       "      <td>NaN</td>\n",
       "      <td>2</td>\n",
       "      <td>01/01/2021</td>\n",
       "      <td>0</td>\n",
       "      <td>1</td>\n",
       "      <td>0</td>\n",
       "      <td>\"Dairy\"</td>\n",
       "      <td>SYMPTOM1</td>\n",
       "      <td>Anxiety</td>\n",
       "    </tr>\n",
       "    <tr>\n",
       "      <th>3</th>\n",
       "      <td>916601</td>\n",
       "      <td>01/01/2021</td>\n",
       "      <td>CA</td>\n",
       "      <td>73.0</td>\n",
       "      <td>73.0</td>\n",
       "      <td>F</td>\n",
       "      <td>Approximately 30 min post vaccination administ...</td>\n",
       "      <td>0</td>\n",
       "      <td>NaN</td>\n",
       "      <td>0</td>\n",
       "      <td>...</td>\n",
       "      <td>NaN</td>\n",
       "      <td>NaN</td>\n",
       "      <td>2</td>\n",
       "      <td>01/01/2021</td>\n",
       "      <td>0</td>\n",
       "      <td>1</td>\n",
       "      <td>0</td>\n",
       "      <td>\"Dairy\"</td>\n",
       "      <td>SYMPTOM2</td>\n",
       "      <td>Dyspnoea</td>\n",
       "    </tr>\n",
       "    <tr>\n",
       "      <th>4</th>\n",
       "      <td>916602</td>\n",
       "      <td>01/01/2021</td>\n",
       "      <td>WA</td>\n",
       "      <td>23.0</td>\n",
       "      <td>23.0</td>\n",
       "      <td>F</td>\n",
       "      <td>About 15 minutes after receiving the vaccine, ...</td>\n",
       "      <td>0</td>\n",
       "      <td>NaN</td>\n",
       "      <td>0</td>\n",
       "      <td>...</td>\n",
       "      <td>NaN</td>\n",
       "      <td>NaN</td>\n",
       "      <td>2</td>\n",
       "      <td>01/01/2021</td>\n",
       "      <td>0</td>\n",
       "      <td>0</td>\n",
       "      <td>1</td>\n",
       "      <td>Shellfish</td>\n",
       "      <td>SYMPTOM1</td>\n",
       "      <td>Chest discomfort</td>\n",
       "    </tr>\n",
       "  </tbody>\n",
       "</table>\n",
       "<p>5 rows × 33 columns</p>\n",
       "</div>"
      ],
      "text/plain": [
       "   VAERS_ID    RECVDATE STATE  AGE_YRS  CAGE_YR SEX  \\\n",
       "0    916600  01/01/2021    TX     33.0     33.0   F   \n",
       "1    916600  01/01/2021    TX     33.0     33.0   F   \n",
       "2    916601  01/01/2021    CA     73.0     73.0   F   \n",
       "3    916601  01/01/2021    CA     73.0     73.0   F   \n",
       "4    916602  01/01/2021    WA     23.0     23.0   F   \n",
       "\n",
       "                                        SYMPTOM_TEXT  DIED DATEDIED  L_THREAT  \\\n",
       "0  Right side of epiglottis swelled up and hinder...     0      NaN         0   \n",
       "1  Right side of epiglottis swelled up and hinder...     0      NaN         0   \n",
       "2  Approximately 30 min post vaccination administ...     0      NaN         0   \n",
       "3  Approximately 30 min post vaccination administ...     0      NaN         0   \n",
       "4  About 15 minutes after receiving the vaccine, ...     0      NaN         0   \n",
       "\n",
       "   ...  PRIOR_VAX  SPLTTYPE  FORM_VERS  TODAYS_DATE BIRTH_DEFECT OFC_VISIT  \\\n",
       "0  ...        NaN       NaN          2   01/01/2021            0         1   \n",
       "1  ...        NaN       NaN          2   01/01/2021            0         1   \n",
       "2  ...        NaN       NaN          2   01/01/2021            0         1   \n",
       "3  ...        NaN       NaN          2   01/01/2021            0         1   \n",
       "4  ...        NaN       NaN          2   01/01/2021            0         0   \n",
       "\n",
       "  ER_ED_VISIT          ALLERGIES    NUMBER           SYMPTOM  \n",
       "0           0  Pcn and bee venom  SYMPTOM1         Dysphagia  \n",
       "1           0  Pcn and bee venom  SYMPTOM2      Epiglottitis  \n",
       "2           0            \"Dairy\"  SYMPTOM1           Anxiety  \n",
       "3           0            \"Dairy\"  SYMPTOM2          Dyspnoea  \n",
       "4           1          Shellfish  SYMPTOM1  Chest discomfort  \n",
       "\n",
       "[5 rows x 33 columns]"
      ]
     },
     "execution_count": 28,
     "metadata": {},
     "output_type": "execute_result"
    }
   ],
   "source": [
    "patient_symp = covid_patients.merge(covid_symptoms, on=\"VAERS_ID\")\n",
    "patient_symp.head()"
   ]
  },
  {
   "cell_type": "code",
   "execution_count": 29,
   "metadata": {},
   "outputs": [
    {
     "data": {
      "text/html": [
       "<div>\n",
       "<style scoped>\n",
       "    .dataframe tbody tr th:only-of-type {\n",
       "        vertical-align: middle;\n",
       "    }\n",
       "\n",
       "    .dataframe tbody tr th {\n",
       "        vertical-align: top;\n",
       "    }\n",
       "\n",
       "    .dataframe thead th {\n",
       "        text-align: right;\n",
       "    }\n",
       "</style>\n",
       "<table border=\"1\" class=\"dataframe\">\n",
       "  <thead>\n",
       "    <tr style=\"text-align: right;\">\n",
       "      <th></th>\n",
       "      <th>VAERS_ID</th>\n",
       "      <th>RECVDATE</th>\n",
       "      <th>STATE</th>\n",
       "      <th>AGE_YRS</th>\n",
       "      <th>CAGE_YR</th>\n",
       "      <th>SEX</th>\n",
       "      <th>SYMPTOM_TEXT</th>\n",
       "      <th>DIED</th>\n",
       "      <th>DATEDIED</th>\n",
       "      <th>L_THREAT</th>\n",
       "      <th>...</th>\n",
       "      <th>SPLTTYPE</th>\n",
       "      <th>FORM_VERS</th>\n",
       "      <th>TODAYS_DATE</th>\n",
       "      <th>BIRTH_DEFECT</th>\n",
       "      <th>OFC_VISIT</th>\n",
       "      <th>ER_ED_VISIT</th>\n",
       "      <th>ALLERGIES</th>\n",
       "      <th>NUMBER</th>\n",
       "      <th>SYMPTOM</th>\n",
       "      <th>VAX_MANU</th>\n",
       "    </tr>\n",
       "  </thead>\n",
       "  <tbody>\n",
       "    <tr>\n",
       "      <th>0</th>\n",
       "      <td>916600</td>\n",
       "      <td>01/01/2021</td>\n",
       "      <td>TX</td>\n",
       "      <td>33.0</td>\n",
       "      <td>33.0</td>\n",
       "      <td>F</td>\n",
       "      <td>Right side of epiglottis swelled up and hinder...</td>\n",
       "      <td>0</td>\n",
       "      <td>NaN</td>\n",
       "      <td>0</td>\n",
       "      <td>...</td>\n",
       "      <td>NaN</td>\n",
       "      <td>2</td>\n",
       "      <td>01/01/2021</td>\n",
       "      <td>0</td>\n",
       "      <td>1</td>\n",
       "      <td>0</td>\n",
       "      <td>Pcn and bee venom</td>\n",
       "      <td>SYMPTOM1</td>\n",
       "      <td>Dysphagia</td>\n",
       "      <td>MODERNA</td>\n",
       "    </tr>\n",
       "    <tr>\n",
       "      <th>1</th>\n",
       "      <td>916600</td>\n",
       "      <td>01/01/2021</td>\n",
       "      <td>TX</td>\n",
       "      <td>33.0</td>\n",
       "      <td>33.0</td>\n",
       "      <td>F</td>\n",
       "      <td>Right side of epiglottis swelled up and hinder...</td>\n",
       "      <td>0</td>\n",
       "      <td>NaN</td>\n",
       "      <td>0</td>\n",
       "      <td>...</td>\n",
       "      <td>NaN</td>\n",
       "      <td>2</td>\n",
       "      <td>01/01/2021</td>\n",
       "      <td>0</td>\n",
       "      <td>1</td>\n",
       "      <td>0</td>\n",
       "      <td>Pcn and bee venom</td>\n",
       "      <td>SYMPTOM2</td>\n",
       "      <td>Epiglottitis</td>\n",
       "      <td>MODERNA</td>\n",
       "    </tr>\n",
       "    <tr>\n",
       "      <th>2</th>\n",
       "      <td>916601</td>\n",
       "      <td>01/01/2021</td>\n",
       "      <td>CA</td>\n",
       "      <td>73.0</td>\n",
       "      <td>73.0</td>\n",
       "      <td>F</td>\n",
       "      <td>Approximately 30 min post vaccination administ...</td>\n",
       "      <td>0</td>\n",
       "      <td>NaN</td>\n",
       "      <td>0</td>\n",
       "      <td>...</td>\n",
       "      <td>NaN</td>\n",
       "      <td>2</td>\n",
       "      <td>01/01/2021</td>\n",
       "      <td>0</td>\n",
       "      <td>1</td>\n",
       "      <td>0</td>\n",
       "      <td>\"Dairy\"</td>\n",
       "      <td>SYMPTOM1</td>\n",
       "      <td>Anxiety</td>\n",
       "      <td>MODERNA</td>\n",
       "    </tr>\n",
       "    <tr>\n",
       "      <th>3</th>\n",
       "      <td>916601</td>\n",
       "      <td>01/01/2021</td>\n",
       "      <td>CA</td>\n",
       "      <td>73.0</td>\n",
       "      <td>73.0</td>\n",
       "      <td>F</td>\n",
       "      <td>Approximately 30 min post vaccination administ...</td>\n",
       "      <td>0</td>\n",
       "      <td>NaN</td>\n",
       "      <td>0</td>\n",
       "      <td>...</td>\n",
       "      <td>NaN</td>\n",
       "      <td>2</td>\n",
       "      <td>01/01/2021</td>\n",
       "      <td>0</td>\n",
       "      <td>1</td>\n",
       "      <td>0</td>\n",
       "      <td>\"Dairy\"</td>\n",
       "      <td>SYMPTOM2</td>\n",
       "      <td>Dyspnoea</td>\n",
       "      <td>MODERNA</td>\n",
       "    </tr>\n",
       "    <tr>\n",
       "      <th>4</th>\n",
       "      <td>916602</td>\n",
       "      <td>01/01/2021</td>\n",
       "      <td>WA</td>\n",
       "      <td>23.0</td>\n",
       "      <td>23.0</td>\n",
       "      <td>F</td>\n",
       "      <td>About 15 minutes after receiving the vaccine, ...</td>\n",
       "      <td>0</td>\n",
       "      <td>NaN</td>\n",
       "      <td>0</td>\n",
       "      <td>...</td>\n",
       "      <td>NaN</td>\n",
       "      <td>2</td>\n",
       "      <td>01/01/2021</td>\n",
       "      <td>0</td>\n",
       "      <td>0</td>\n",
       "      <td>1</td>\n",
       "      <td>Shellfish</td>\n",
       "      <td>SYMPTOM1</td>\n",
       "      <td>Chest discomfort</td>\n",
       "      <td>PFIZER\\BIONTECH</td>\n",
       "    </tr>\n",
       "  </tbody>\n",
       "</table>\n",
       "<p>5 rows × 34 columns</p>\n",
       "</div>"
      ],
      "text/plain": [
       "   VAERS_ID    RECVDATE STATE  AGE_YRS  CAGE_YR SEX  \\\n",
       "0    916600  01/01/2021    TX     33.0     33.0   F   \n",
       "1    916600  01/01/2021    TX     33.0     33.0   F   \n",
       "2    916601  01/01/2021    CA     73.0     73.0   F   \n",
       "3    916601  01/01/2021    CA     73.0     73.0   F   \n",
       "4    916602  01/01/2021    WA     23.0     23.0   F   \n",
       "\n",
       "                                        SYMPTOM_TEXT  DIED DATEDIED  L_THREAT  \\\n",
       "0  Right side of epiglottis swelled up and hinder...     0      NaN         0   \n",
       "1  Right side of epiglottis swelled up and hinder...     0      NaN         0   \n",
       "2  Approximately 30 min post vaccination administ...     0      NaN         0   \n",
       "3  Approximately 30 min post vaccination administ...     0      NaN         0   \n",
       "4  About 15 minutes after receiving the vaccine, ...     0      NaN         0   \n",
       "\n",
       "   ...  SPLTTYPE  FORM_VERS  TODAYS_DATE  BIRTH_DEFECT OFC_VISIT ER_ED_VISIT  \\\n",
       "0  ...       NaN          2   01/01/2021             0         1           0   \n",
       "1  ...       NaN          2   01/01/2021             0         1           0   \n",
       "2  ...       NaN          2   01/01/2021             0         1           0   \n",
       "3  ...       NaN          2   01/01/2021             0         1           0   \n",
       "4  ...       NaN          2   01/01/2021             0         0           1   \n",
       "\n",
       "           ALLERGIES    NUMBER           SYMPTOM         VAX_MANU  \n",
       "0  Pcn and bee venom  SYMPTOM1         Dysphagia          MODERNA  \n",
       "1  Pcn and bee venom  SYMPTOM2      Epiglottitis          MODERNA  \n",
       "2            \"Dairy\"  SYMPTOM1           Anxiety          MODERNA  \n",
       "3            \"Dairy\"  SYMPTOM2          Dyspnoea          MODERNA  \n",
       "4          Shellfish  SYMPTOM1  Chest discomfort  PFIZER\\BIONTECH  \n",
       "\n",
       "[5 rows x 34 columns]"
      ]
     },
     "execution_count": 29,
     "metadata": {},
     "output_type": "execute_result"
    }
   ],
   "source": [
    "pt_symp_vax = patient_symp.merge(covid_vax[[\"VAERS_ID\", \"VAX_MANU\"]], on=\"VAERS_ID\")\n",
    "pt_symp_vax.head()"
   ]
  },
  {
   "cell_type": "markdown",
   "metadata": {},
   "source": [
    "## Modeling Data"
   ]
  },
  {
   "cell_type": "code",
   "execution_count": 30,
   "metadata": {},
   "outputs": [],
   "source": [
    "def plot_pie(labels, sizes, explode, save_title=None):\n",
    "    '''Plot pie chart\n",
    "    \n",
    "    INPUT:\n",
    "    labels - labels for wedges\n",
    "    sizes - wedge sizes\n",
    "    explode - specifies the fraction of the radius with which to offset each wedge\n",
    "    save_title - name to save as png\n",
    "    '''\n",
    "    fig1, ax1 = plt.subplots()\n",
    "    \n",
    "    ax1.pie(sizes, explode=explode, labels=labels, autopct='%1.1f%%',\n",
    "            shadow=True, startangle=90)\n",
    "    ax1.axis('equal')  # Equal aspect ratio ensures that pie is drawn as a circle.\n",
    "    if save_title != None:\n",
    "        path = \"plots/\" + save_title\n",
    "        plt.savefig(path, bbox_inches = \"tight\")\n",
    "\n",
    "    plt.show() "
   ]
  },
  {
   "cell_type": "code",
   "execution_count": 31,
   "metadata": {},
   "outputs": [],
   "source": [
    "def bar_plot(values, title, save_title=None):\n",
    "    ''' Plot bar plot\n",
    "    \n",
    "    INPUT:\n",
    "    values - content to plot as pandas series\n",
    "    title - plot title\n",
    "    save_title - name to save as png\n",
    "    '''\n",
    "    ax = values.plot(kind='bar')\n",
    "    t = ax.set_xticklabels(ax.get_xticklabels(), rotation=45, horizontalalignment='right')\n",
    "    ax.set_title(title)\n",
    "    if save_title != None:\n",
    "        path = \"plots/\" + save_title\n",
    "        plt.savefig(path, bbox_inches = \"tight\")\n",
    "    \n",
    "    plt.show()"
   ]
  },
  {
   "cell_type": "code",
   "execution_count": 32,
   "metadata": {},
   "outputs": [],
   "source": [
    "# relevant values / modifications\n",
    "all_patients = covid_patients[\"VAERS_ID\"].nunique()\n",
    "\n",
    "pos = \"SARS-CoV-2 test positive\"\n",
    "cov_pos_id = covid_symptoms[covid_symptoms[\"SYMPTOM\"] == pos][\"VAERS_ID\"].unique()\n",
    "\n",
    "# all patients not tested positive for Covid (excluded starting from Q 1.1)\n",
    "all_patients_nc = covid_patients[~covid_patients[\"VAERS_ID\"].isin(cov_pos_id)][\"VAERS_ID\"].nunique()"
   ]
  },
  {
   "cell_type": "markdown",
   "metadata": {},
   "source": [
    "### Overview Vaccination Manufacturers"
   ]
  },
  {
   "cell_type": "code",
   "execution_count": 33,
   "metadata": {},
   "outputs": [
    {
     "data": {
      "image/png": "[encoded data removed]",
      "text/plain": [
       "<Figure size 432x288 with 1 Axes>"
      ]
     },
     "metadata": {
      "needs_background": "light"
     },
     "output_type": "display_data"
    }
   ],
   "source": [
    "bar_plot(covid_vax[\"VAX_MANU\"].value_counts(), \"Vaccination Manufacturers\", \"manufacturer.png\")"
   ]
  },
  {
   "cell_type": "code",
   "execution_count": 34,
   "metadata": {},
   "outputs": [
    {
     "name": "stdout",
     "output_type": "stream",
     "text": [
      "55.4 % of the vaccinations are from PFIZER/BIONTECH, 45.5 % are from MODERNA.\n"
     ]
    }
   ],
   "source": [
    "pfizer = covid_vax[covid_vax[\"VAX_MANU\"] == \"PFIZER\\BIONTECH\"].shape[0]\n",
    "moderna = covid_vax[covid_vax[\"VAX_MANU\"] == \"MODERNA\"].shape[0]\n",
    "print(\"{:.1f} % of the vaccinations are from PFIZER/BIONTECH, {:.1f} % are from MODERNA.\".format(\n",
    "(pfizer/all_patients * 100), (moderna/all_patients * 100)))"
   ]
  },
  {
   "cell_type": "markdown",
   "metadata": {},
   "source": [
    "### Overview Data from States"
   ]
  },
  {
   "cell_type": "code",
   "execution_count": 35,
   "metadata": {},
   "outputs": [
    {
     "data": {
      "image/png": "[encoded data removed]",
      "text/plain": [
       "<Figure size 432x288 with 1 Axes>"
      ]
     },
     "metadata": {
      "needs_background": "light"
     },
     "output_type": "display_data"
    }
   ],
   "source": [
    "bar_plot(covid_patients[\"STATE\"].value_counts()[:15], \"15 States with most data entries\")"
   ]
  },
  {
   "cell_type": "markdown",
   "metadata": {},
   "source": [
    "### Overview Age of the Patients"
   ]
  },
  {
   "cell_type": "code",
   "execution_count": 36,
   "metadata": {},
   "outputs": [
    {
     "data": {
      "text/plain": [
       "count    8058.000000\n",
       "mean       53.406654\n",
       "std        19.642475\n",
       "min         0.250000\n",
       "25%        37.000000\n",
       "50%        51.000000\n",
       "75%        68.000000\n",
       "max       105.000000\n",
       "Name: AGE_YRS, dtype: float64"
      ]
     },
     "execution_count": 36,
     "metadata": {},
     "output_type": "execute_result"
    }
   ],
   "source": [
    "covid_patients[\"AGE_YRS\"].describe()"
   ]
  },
  {
   "cell_type": "code",
   "execution_count": 37,
   "metadata": {},
   "outputs": [
    {
     "data": {
      "image/png": "[encoded data removed]",
      "text/plain": [
       "<Figure size 432x288 with 1 Axes>"
      ]
     },
     "metadata": {
      "needs_background": "light"
     },
     "output_type": "display_data"
    }
   ],
   "source": [
    "ax = covid_patients[\"AGE_YRS\"].plot(kind='hist', bins=20)\n",
    "ax.set_title(\"Distribution of Age\")\n",
    "plt.savefig(\"plots/age_all.png\")\n",
    "plt.show()"
   ]
  },
  {
   "cell_type": "markdown",
   "metadata": {},
   "source": [
    "The side effects seem to occur most often for patients roughly between 40 and 60."
   ]
  },
  {
   "cell_type": "markdown",
   "metadata": {},
   "source": [
    "## Overview Sex"
   ]
  },
  {
   "cell_type": "code",
   "execution_count": 38,
   "metadata": {},
   "outputs": [
    {
     "name": "stdout",
     "output_type": "stream",
     "text": [
      "Ratio Female: 68.0 %, Ratio Male: 28.4 %, Ratio Unkown: 3.6 %\n"
     ]
    }
   ],
   "source": [
    "sex = covid_patients[\"SEX\"].value_counts()\n",
    "ratio_f = sex[\"F\"] / all_patients * 100\n",
    "ratio_m = sex[\"M\"] / all_patients * 100\n",
    "ratio_u = sex[\"U\"] / all_patients * 100\n",
    "ratio_f\n",
    "print(\"Ratio Female: {:.1f} %, Ratio Male: {:.1f} %, Ratio Unkown: {:.1f} %\".format(ratio_f, ratio_m, ratio_u))"
   ]
  },
  {
   "cell_type": "code",
   "execution_count": 39,
   "metadata": {},
   "outputs": [
    {
     "data": {
      "image/png": "[encoded data removed]",
      "text/plain": [
       "<Figure size 432x288 with 1 Axes>"
      ]
     },
     "metadata": {
      "needs_background": "light"
     },
     "output_type": "display_data"
    }
   ],
   "source": [
    "bar_plot(sex, \"Sex\", \"sex.png\")"
   ]
  },
  {
   "cell_type": "markdown",
   "metadata": {},
   "source": [
    "## Question 1: What are the most common side effects (symptoms)?"
   ]
  },
  {
   "cell_type": "markdown",
   "metadata": {},
   "source": [
    "#### Description of Symptoms Dataset\n",
    "The fields described in this table provide the adverse event coded terms utilizing the\n",
    "MedDRA dictionary. Coders will search for specific terms in Items 18 and 19 in\n",
    "VAERS 2 form or Boxes 7 and 12 on the VAERS 1 form and code them to a\n",
    "searchable and consistent MedDRA term; note that terms are included in the .csv file\n",
    "in alphabetical order. There can be an unlimited amount of coded terms for a given\n",
    "event. Each row in the .csv will contain up to 5 MedDRA terms per VAERS ID; thus,\n",
    "there could be multiple rows per VAERS ID. For each of the VAERS_ID’s listed in the\n",
    "VAERSDATA.CSV table, there is a matching record in this file, identified by\n",
    "VAERS_ID."
   ]
  },
  {
   "cell_type": "code",
   "execution_count": 40,
   "metadata": {},
   "outputs": [
    {
     "data": {
      "image/png": "[encoded data removed]",
      "text/plain": [
       "<Figure size 432x288 with 1 Axes>"
      ]
     },
     "metadata": {
      "needs_background": "light"
     },
     "output_type": "display_data"
    }
   ],
   "source": [
    "# Out of all symptoms, which ones occur the most?\n",
    "symptom_values = covid_symptoms[\"SYMPTOM\"].value_counts()\n",
    "bar_plot(symptom_values[:15], \"Which symptoms occur the most after a COVID vaccination?\", \"common_symptoms.png\")"
   ]
  },
  {
   "cell_type": "markdown",
   "metadata": {},
   "source": [
    "**Observations:**\n",
    "\n",
    "* mostly lighter symptoms\n",
    "* noticable: SARS-CoV-2 test positive, death\n",
    "\n",
    "**Note:** From now on, I will exclude patients with positive Covid test since we cannot determine whether their symptoms might be associated with their infection or the vaccination."
   ]
  },
  {
   "cell_type": "markdown",
   "metadata": {},
   "source": [
    "### Question 1.1: What are the most common symptoms for patients without positive Covid test? "
   ]
  },
  {
   "cell_type": "code",
   "execution_count": 41,
   "metadata": {},
   "outputs": [
    {
     "data": {
      "image/png": "[encoded data removed]",
      "text/plain": [
       "<Figure size 432x288 with 1 Axes>"
      ]
     },
     "metadata": {
      "needs_background": "light"
     },
     "output_type": "display_data"
    }
   ],
   "source": [
    "no_covid_symptoms = covid_symptoms[(~covid_symptoms[\"VAERS_ID\"].isin(cov_pos_id))]\n",
    "no_covid_values = no_covid_symptoms[\"SYMPTOM\"].value_counts()\n",
    "\n",
    "bar_plot(no_covid_values[:15], \"Which symptoms occur the most after a COVID vaccination (positive Covid test excluded)?\")"
   ]
  },
  {
   "cell_type": "code",
   "execution_count": 42,
   "metadata": {},
   "outputs": [],
   "source": [
    "# display differences between symptoms with Covid patients vs. without Covid patients\n",
    "diff = pd.Series(symptom_values[:15].subtract(no_covid_values[:13], fill_value=0), name='DIFFERENCE') #, index=symptom_values[:15].index)\n",
    "diff_red = diff.drop(labels=['COVID-19', pos])"
   ]
  },
  {
   "cell_type": "code",
   "execution_count": 43,
   "metadata": {},
   "outputs": [
    {
     "data": {
      "image/png": "[encoded data removed]",
      "text/plain": [
       "<Figure size 432x288 with 1 Axes>"
      ]
     },
     "metadata": {
      "needs_background": "light"
     },
     "output_type": "display_data"
    }
   ],
   "source": [
    "diff_symptoms = pd.concat([no_covid_values[:13], diff_red], axis=1)\n",
    "ax = diff_symptoms.plot(kind='bar', stacked=True)\n",
    "t = ax.set_xticklabels(ax.get_xticklabels(), rotation=45, horizontalalignment='right')\n",
    "ax.set_title(\"Which symptoms occur the most after a COVID vaccination (positive Covid test excluded)?\")\n",
    "path = \"plots/\" + \"common_symptoms_no_covid.png\"\n",
    "plt.savefig(path, bbox_inches = \"tight\")\n",
    "\n",
    "plt.show()"
   ]
  },
  {
   "cell_type": "markdown",
   "metadata": {},
   "source": [
    "### Question 1.2: When do these symptoms occur on average? "
   ]
  },
  {
   "cell_type": "code",
   "execution_count": 44,
   "metadata": {},
   "outputs": [
    {
     "data": {
      "text/plain": [
       "count     8242.000000\n",
       "mean        20.267532\n",
       "std        594.243915\n",
       "min          0.000000\n",
       "25%          0.000000\n",
       "50%          1.000000\n",
       "75%          4.000000\n",
       "max      36896.000000\n",
       "Name: NUMDAYS, dtype: float64"
      ]
     },
     "execution_count": 44,
     "metadata": {},
     "output_type": "execute_result"
    }
   ],
   "source": [
    "covid_patients[\"NUMDAYS\"].describe()"
   ]
  },
  {
   "cell_type": "code",
   "execution_count": 45,
   "metadata": {},
   "outputs": [
    {
     "data": {
      "text/html": [
       "<div>\n",
       "<style scoped>\n",
       "    .dataframe tbody tr th:only-of-type {\n",
       "        vertical-align: middle;\n",
       "    }\n",
       "\n",
       "    .dataframe tbody tr th {\n",
       "        vertical-align: top;\n",
       "    }\n",
       "\n",
       "    .dataframe thead th {\n",
       "        text-align: right;\n",
       "    }\n",
       "</style>\n",
       "<table border=\"1\" class=\"dataframe\">\n",
       "  <thead>\n",
       "    <tr style=\"text-align: right;\">\n",
       "      <th></th>\n",
       "      <th>ONSET_DATE</th>\n",
       "      <th>VAX_DATE</th>\n",
       "      <th>RECVDATE</th>\n",
       "    </tr>\n",
       "  </thead>\n",
       "  <tbody>\n",
       "    <tr>\n",
       "      <th>287</th>\n",
       "      <td>12/29/2020</td>\n",
       "      <td>07/10/1992</td>\n",
       "      <td>01/01/2021</td>\n",
       "    </tr>\n",
       "    <tr>\n",
       "      <th>359</th>\n",
       "      <td>12/27/2020</td>\n",
       "      <td>09/13/1959</td>\n",
       "      <td>01/01/2021</td>\n",
       "    </tr>\n",
       "    <tr>\n",
       "      <th>395</th>\n",
       "      <td>12/28/2020</td>\n",
       "      <td>12/23/2019</td>\n",
       "      <td>01/01/2021</td>\n",
       "    </tr>\n",
       "    <tr>\n",
       "      <th>895</th>\n",
       "      <td>12/31/2020</td>\n",
       "      <td>10/31/2020</td>\n",
       "      <td>01/02/2021</td>\n",
       "    </tr>\n",
       "    <tr>\n",
       "      <th>972</th>\n",
       "      <td>01/02/2021</td>\n",
       "      <td>01/02/2020</td>\n",
       "      <td>01/03/2021</td>\n",
       "    </tr>\n",
       "    <tr>\n",
       "      <th>1245</th>\n",
       "      <td>01/02/2021</td>\n",
       "      <td>01/02/2020</td>\n",
       "      <td>01/03/2021</td>\n",
       "    </tr>\n",
       "    <tr>\n",
       "      <th>1264</th>\n",
       "      <td>12/28/2020</td>\n",
       "      <td>10/04/1986</td>\n",
       "      <td>01/03/2021</td>\n",
       "    </tr>\n",
       "    <tr>\n",
       "      <th>1627</th>\n",
       "      <td>01/01/2021</td>\n",
       "      <td>01/04/2020</td>\n",
       "      <td>01/04/2021</td>\n",
       "    </tr>\n",
       "    <tr>\n",
       "      <th>1657</th>\n",
       "      <td>01/04/2021</td>\n",
       "      <td>01/02/2020</td>\n",
       "      <td>01/04/2021</td>\n",
       "    </tr>\n",
       "    <tr>\n",
       "      <th>1819</th>\n",
       "      <td>01/03/2021</td>\n",
       "      <td>12/27/2000</td>\n",
       "      <td>01/04/2021</td>\n",
       "    </tr>\n",
       "  </tbody>\n",
       "</table>\n",
       "</div>"
      ],
      "text/plain": [
       "      ONSET_DATE    VAX_DATE    RECVDATE\n",
       "287   12/29/2020  07/10/1992  01/01/2021\n",
       "359   12/27/2020  09/13/1959  01/01/2021\n",
       "395   12/28/2020  12/23/2019  01/01/2021\n",
       "895   12/31/2020  10/31/2020  01/02/2021\n",
       "972   01/02/2021  01/02/2020  01/03/2021\n",
       "1245  01/02/2021  01/02/2020  01/03/2021\n",
       "1264  12/28/2020  10/04/1986  01/03/2021\n",
       "1627  01/01/2021  01/04/2020  01/04/2021\n",
       "1657  01/04/2021  01/02/2020  01/04/2021\n",
       "1819  01/03/2021  12/27/2000  01/04/2021"
      ]
     },
     "execution_count": 45,
     "metadata": {},
     "output_type": "execute_result"
    }
   ],
   "source": [
    "# Observation: some of the VAX_DATE entries are not correct, probably incorrect year\n",
    "# Exclude for this visualization but data entries could still be ok for other questions\n",
    "covid_patients[covid_patients[\"NUMDAYS\"] > 40][[\"ONSET_DATE\", \"VAX_DATE\", \"RECVDATE\"]].head(10)"
   ]
  },
  {
   "cell_type": "code",
   "execution_count": 46,
   "metadata": {},
   "outputs": [
    {
     "data": {
      "text/plain": [
       "count    8211.000000\n",
       "mean        3.096091\n",
       "std         5.170482\n",
       "min         0.000000\n",
       "25%         0.000000\n",
       "50%         1.000000\n",
       "75%         4.000000\n",
       "max        39.000000\n",
       "Name: NUMDAYS, dtype: float64"
      ]
     },
     "execution_count": 46,
     "metadata": {},
     "output_type": "execute_result"
    }
   ],
   "source": [
    "clean_part = covid_patients[covid_patients[\"NUMDAYS\"] < 40]\n",
    "clean_part[\"NUMDAYS\"].describe()"
   ]
  },
  {
   "cell_type": "markdown",
   "metadata": {},
   "source": [
    "**Observation:** On average, the symptoms occur after ca. 3 days."
   ]
  },
  {
   "cell_type": "markdown",
   "metadata": {},
   "source": [
    "## Question 2: How many patients were hospitalized or died? "
   ]
  },
  {
   "cell_type": "code",
   "execution_count": 47,
   "metadata": {},
   "outputs": [
    {
     "data": {
      "image/png": "[encoded data removed]",
      "text/plain": [
       "<Figure size 432x288 with 1 Axes>"
      ]
     },
     "metadata": {},
     "output_type": "display_data"
    },
    {
     "name": "stdout",
     "output_type": "stream",
     "text": [
      "1998  patients were hospitalized.\n"
     ]
    },
    {
     "data": {
      "image/png": "[encoded data removed]",
      "text/plain": [
       "<Figure size 432x288 with 1 Axes>"
      ]
     },
     "metadata": {
      "needs_background": "light"
     },
     "output_type": "display_data"
    }
   ],
   "source": [
    "# Severeness of symptoms: How many patients were hospitalized?\n",
    "hospitalized = patient_symp[(patient_symp[\"HOSPITAL\"] == 1) & (~patient_symp[\"VAERS_ID\"].isin(cov_pos_id))]\n",
    "count_hospitalized = hospitalized[\"VAERS_ID\"].nunique()\n",
    "\n",
    "labels = 'Patients hospitalized', 'Others'\n",
    "sizes = [count_hospitalized, (all_patients_nc-count_hospitalized)]\n",
    "explode = (0.05, 0)\n",
    "plot_pie(labels, sizes, explode)\n",
    "\n",
    "print(count_hospitalized, \" patients were hospitalized.\")\n",
    "bar_plot(hospitalized[\"HOSPDAYS\"].value_counts(), \"Numbers of days the patients were hospitalized\")"
   ]
  },
  {
   "cell_type": "markdown",
   "metadata": {},
   "source": [
    "Since a major proportion of the hospitalized patients stayed for 0 days, we can additionally look at ratio for hospitalized patients who stayed minimum 1 day. These should be more interesting for us."
   ]
  },
  {
   "cell_type": "code",
   "execution_count": 48,
   "metadata": {},
   "outputs": [
    {
     "name": "stdout",
     "output_type": "stream",
     "text": [
      "1334 stayed in a hospital for >= 1 day.\n"
     ]
    },
    {
     "data": {
      "image/png": "[encoded data removed]",
      "text/plain": [
       "<Figure size 432x288 with 1 Axes>"
      ]
     },
     "metadata": {},
     "output_type": "display_data"
    }
   ],
   "source": [
    "longer_hospitalized = hospitalized[hospitalized[\"HOSPDAYS\"] > 0]\n",
    "count_lhospitalized = longer_hospitalized[\"VAERS_ID\"].nunique()\n",
    "print(count_lhospitalized, \"stayed in a hospital for >= 1 day.\")\n",
    "\n",
    "labels = 'Patients hospitalized >= 1 day', 'Others'\n",
    "sizes = [count_lhospitalized, (all_patients_nc-count_lhospitalized)]\n",
    "explode = (0.05, 0)\n",
    "plot_pie(labels, sizes, explode, \"hospitalized_pie.png\") # percent"
   ]
  },
  {
   "cell_type": "code",
   "execution_count": 49,
   "metadata": {},
   "outputs": [
    {
     "data": {
      "image/png": "[encoded data removed]",
      "text/plain": [
       "<Figure size 432x288 with 1 Axes>"
      ]
     },
     "metadata": {
      "needs_background": "light"
     },
     "output_type": "display_data"
    }
   ],
   "source": [
    "bar_plot(longer_hospitalized[\"SYMPTOM\"].value_counts()[:15], \n",
    "         \"Most frequent symptoms when hospitalized after COVID vaccination\",\n",
    "        \"hospitalized_symptoms.png\")"
   ]
  },
  {
   "cell_type": "code",
   "execution_count": 50,
   "metadata": {},
   "outputs": [
    {
     "name": "stdout",
     "output_type": "stream",
     "text": [
      "873 patients died after vaccination.\n"
     ]
    },
    {
     "data": {
      "image/png": "[encoded data removed]",
      "text/plain": [
       "<Figure size 432x288 with 1 Axes>"
      ]
     },
     "metadata": {},
     "output_type": "display_data"
    }
   ],
   "source": [
    "died = patient_symp[(patient_symp[\"DIED\"] == 1) &  (~patient_symp[\"VAERS_ID\"].isin(cov_pos_id))]\n",
    "persons_died = died[\"VAERS_ID\"].nunique()\n",
    "print(persons_died, \"patients died after vaccination.\")\n",
    "death_ratio = persons_died / all_patients_nc\n",
    "\n",
    "labels = 'Patients died after vaccination', 'Others'\n",
    "sizes = [persons_died, (all_patients_nc-persons_died)]\n",
    "explode = (0.05, 0)\n",
    "\n",
    "plot_pie(labels, sizes, explode, \"died_pie.png\") "
   ]
  },
  {
   "cell_type": "code",
   "execution_count": 51,
   "metadata": {},
   "outputs": [
    {
     "data": {
      "image/png": "[encoded data removed]",
      "text/plain": [
       "<Figure size 432x288 with 1 Axes>"
      ]
     },
     "metadata": {
      "needs_background": "light"
     },
     "output_type": "display_data"
    }
   ],
   "source": [
    "# excluding symptom 0 (which would be \"death\")\n",
    "bar_plot(died[\"SYMPTOM\"].value_counts()[1:15], \"Most frequent symptoms for patients who died\",\n",
    "        \"died_symptoms.png\")"
   ]
  },
  {
   "cell_type": "markdown",
   "metadata": {},
   "source": [
    "## Qestion 3: What is the (medical) background of the patients who died?"
   ]
  },
  {
   "cell_type": "code",
   "execution_count": 52,
   "metadata": {},
   "outputs": [
    {
     "name": "stdout",
     "output_type": "stream",
     "text": [
      "Of all patients who died,  69.07% (603 patients) had a history of illness at the time of vaccination.\n",
      "Of all patients who died,  41.81% (365 patients) were ill at the time of vaccination.\n"
     ]
    },
    {
     "data": {
      "image/png": "[encoded data removed]",
      "text/plain": [
       "<Figure size 432x288 with 1 Axes>"
      ]
     },
     "metadata": {},
     "output_type": "display_data"
    }
   ],
   "source": [
    "history = died[died[\"HISTORY\"].notnull()][\"VAERS_ID\"]\n",
    "illness = died[died[\"CUR_ILL\"].notnull()][\"VAERS_ID\"]\n",
    "history_nr = history.nunique()\n",
    "illness_nr = illness.nunique()\n",
    "\n",
    "history_illness = pd.concat([history, illness], ignore_index=True, sort=False)\n",
    "history_illness_nr = history_illness.nunique()\n",
    "\n",
    "\n",
    "ratio_history_death = history_nr / persons_died * 100\n",
    "print(\"Of all patients who died, \", \n",
    "      \"{:.2f}% ({} patients) had a history of illness at the time of vaccination.\".format(ratio_history_death, history_nr)) \n",
    "\n",
    "ratio_illness_death = illness_nr / persons_died * 100\n",
    "print(\"Of all patients who died, \", \n",
    "      \"{:.2f}% ({} patients) were ill at the time of vaccination.\".format(ratio_illness_death, illness_nr)) \n",
    "\n",
    "\n",
    "labels = 'History of illness / current illness', 'No illness known'\n",
    "sizes = [history_illness_nr, (persons_died-history_illness_nr)]\n",
    "explode = (0.05, 0)\n",
    "\n",
    "plot_pie(labels, sizes, explode, \"died_history.png\") # Krankheiten value_counts"
   ]
  },
  {
   "cell_type": "code",
   "execution_count": 53,
   "metadata": {},
   "outputs": [
    {
     "name": "stdout",
     "output_type": "stream",
     "text": [
      "Of all patients who died,  55.20% (4448 patients) had a history of illness at the time of vaccination.\n",
      "Of all patients who died,  19.87% (365 patients) were ill at the time of vaccination.\n"
     ]
    }
   ],
   "source": [
    "# comparison: percentages for history of illness for all patients \n",
    "history_all = patient_symp[(patient_symp[\"HISTORY\"].notnull()) & (~patient_symp[\"VAERS_ID\"].isin(cov_pos_id))][\"VAERS_ID\"]\n",
    "illness_all = patient_symp[(patient_symp[\"CUR_ILL\"].notnull()) & (~patient_symp[\"VAERS_ID\"].isin(cov_pos_id))][\"VAERS_ID\"]\n",
    "\n",
    "history_nr_all = history_all.nunique()\n",
    "illness_nr_all = illness_all.nunique()\n",
    "\n",
    "history_illness_all = pd.concat([history_all, illness_all], ignore_index=True, sort=False)\n",
    "history_illness_nr_all = history_illness_all.nunique()\n",
    "\n",
    "ratio_history_all = history_nr_all / all_patients_nc * 100\n",
    "print(\"Of all patients who died, \", \n",
    "      \"{:.2f}% ({} patients) had a history of illness at the time of vaccination.\".format(ratio_history_all, history_nr_all)) \n",
    "\n",
    "ratio_illness_all = illness_nr_all / all_patients_nc * 100\n",
    "print(\"Of all patients who died, \", \n",
    "      \"{:.2f}% ({} patients) were ill at the time of vaccination.\".format(ratio_illness_all, illness_nr))"
   ]
  },
  {
   "cell_type": "code",
   "execution_count": 54,
   "metadata": {},
   "outputs": [
    {
     "data": {
      "image/png": "[encoded data removed]",
      "text/plain": [
       "<Figure size 432x288 with 1 Axes>"
      ]
     },
     "metadata": {
      "needs_background": "light"
     },
     "output_type": "display_data"
    }
   ],
   "source": [
    "labels = ['History of Illness', 'Current Illness']\n",
    "died_values = [ratio_history_death, ratio_illness_death]\n",
    "all_values = [ratio_history_all, ratio_illness_all]\n",
    "\n",
    "x = np.arange(len(labels))  # the label locations\n",
    "width = 0.3  # the width of the bars\n",
    "\n",
    "fig, ax = plt.subplots()\n",
    "rects1 = ax.bar(x - width/2, died_values, width, label='Died patients')\n",
    "rects2 = ax.bar(x + width/2, all_values, width, label='All patients', color=\"lightskyblue\")\n",
    "\n",
    "ax.set_ylabel('Ratio of Patients in %')\n",
    "ax.set_title('Comparison of Illness of Patients')\n",
    "ax.set_xticks(x)\n",
    "ax.set_xticklabels(labels)\n",
    "ax.legend()\n",
    "\n",
    "fig.tight_layout()\n",
    "plt.savefig(\"plots/ratio_patients.png\")\n",
    "plt.show()"
   ]
  },
  {
   "cell_type": "markdown",
   "metadata": {},
   "source": [
    "### Question 3.1: How old were the patients who died after the vaccination?"
   ]
  },
  {
   "cell_type": "code",
   "execution_count": 55,
   "metadata": {},
   "outputs": [
    {
     "data": {
      "text/plain": [
       "count    3907.000000\n",
       "mean       76.555219\n",
       "std        13.622898\n",
       "min         1.080000\n",
       "25%        67.000000\n",
       "50%        78.000000\n",
       "75%        88.000000\n",
       "max       105.000000\n",
       "Name: AGE_YRS, dtype: float64"
      ]
     },
     "execution_count": 55,
     "metadata": {},
     "output_type": "execute_result"
    }
   ],
   "source": [
    "died[\"AGE_YRS\"].describe()"
   ]
  },
  {
   "cell_type": "code",
   "execution_count": 56,
   "metadata": {},
   "outputs": [
    {
     "data": {
      "image/png": "[encoded data removed]",
      "text/plain": [
       "<Figure size 432x288 with 1 Axes>"
      ]
     },
     "metadata": {
      "needs_background": "light"
     },
     "output_type": "display_data"
    }
   ],
   "source": [
    "ax = died[\"AGE_YRS\"].plot(kind='hist', bins=20)\n",
    "ax.set_title(\"Age Distribution for patients that died\")\n",
    "plt.savefig(\"plots/age_died.png\")\n",
    "plt.show()"
   ]
  },
  {
   "cell_type": "code",
   "execution_count": 57,
   "metadata": {},
   "outputs": [
    {
     "name": "stdout",
     "output_type": "stream",
     "text": [
      "0.7056128293241696\n"
     ]
    }
   ],
   "source": [
    "elderly = died[(died[\"AGE_YRS\"] >= 70)][\"VAERS_ID\"].unique()\n",
    "print(len(elderly) / persons_died)"
   ]
  },
  {
   "cell_type": "markdown",
   "metadata": {},
   "source": [
    "**Observation:** \n",
    "Higher mean age than our mean age in the complete dataset. "
   ]
  },
  {
   "cell_type": "markdown",
   "metadata": {},
   "source": [
    "### Question 4: Can we predict the hospitalization of a patient based on the data?"
   ]
  },
  {
   "cell_type": "markdown",
   "metadata": {},
   "source": [
    "#### Dataset Cleaning for Prediction Task"
   ]
  },
  {
   "cell_type": "code",
   "execution_count": 58,
   "metadata": {},
   "outputs": [],
   "source": [
    "def clean_data(df, x_cols, y_col):\n",
    "    ''' Create dataset and label and create \n",
    "    dummy variables for categorical variables and fill numeric columns with mean\n",
    "    \n",
    "    INPUT:\n",
    "    df - pandas dataframe \n",
    "    x_cols - list of strings with col names for data\n",
    "    y_col - string with col name for label\n",
    "    \n",
    "    OUTPUT:\n",
    "    data - new dataframe with columns used as features for prediction\n",
    "    y - label for dataset\n",
    "    '''\n",
    "    \n",
    "    data = df[x_cols]\n",
    "    y = df[y_col]\n",
    "\n",
    "    # check if # rows match\n",
    "    if data.shape[0] == len(y):\n",
    "        print(\"Shapes match\")\n",
    "    else:\n",
    "        print(\"Shapes don't match\")\n",
    "    \n",
    "    # create dummy variables for categorical variables\n",
    "    cat_vars = data.select_dtypes(include=['object']).copy().columns\n",
    "    for var in  cat_vars:\n",
    "        # for each category add dummy variable, drop original column\n",
    "        data = pd.concat([data.drop(var, axis=1), pd.get_dummies(data[var], prefix=var, \n",
    "                                                                 prefix_sep='_', drop_first=False)], axis=1)\n",
    "        \n",
    "    # Fill numeric columns with the mean\n",
    "    num_vars = data.select_dtypes(include=['float', 'int']).columns\n",
    "    for col in num_vars:\n",
    "        data[col].fillna((data[col].mean()), inplace=True)\n",
    "    \n",
    "    # standard scaling of data\n",
    "    scaler = StandardScaler()\n",
    "    scaled = scaler.fit_transform(data)\n",
    "    \n",
    "    return data, y"
   ]
  },
  {
   "cell_type": "code",
   "execution_count": 59,
   "metadata": {},
   "outputs": [],
   "source": [
    "# Preparation for Data Cleaning\n",
    "# exclude symptoms with occurence < 20\n",
    "symp_counts = pt_symp_vax[\"SYMPTOM\"].value_counts()\n",
    "pt_symp_vax = pt_symp_vax.loc[pt_symp_vax[\"SYMPTOM\"].isin(symp_counts.index[symp_counts >= 20])]"
   ]
  },
  {
   "cell_type": "code",
   "execution_count": 60,
   "metadata": {},
   "outputs": [],
   "source": [
    "# clean NUMDAYS: take only the ones with day difference < 40\n",
    "pt_symp_vax = pt_symp_vax[pt_symp_vax[\"NUMDAYS\"] < 40]"
   ]
  },
  {
   "cell_type": "code",
   "execution_count": 61,
   "metadata": {},
   "outputs": [],
   "source": [
    "# exclude persons with positive Covid-19 test\n",
    "pt_symp_vax = pt_symp_vax[~pt_symp_vax[\"VAERS_ID\"].isin(cov_pos_id)]"
   ]
  },
  {
   "cell_type": "markdown",
   "metadata": {},
   "source": [
    "#### Data Preparation"
   ]
  },
  {
   "cell_type": "code",
   "execution_count": 62,
   "metadata": {},
   "outputs": [
    {
     "name": "stdout",
     "output_type": "stream",
     "text": [
      "Shapes match\n"
     ]
    }
   ],
   "source": [
    "x_cols = [\"VAERS_ID\", \"AGE_YRS\", \"SEX\", \"SYMPTOM\", \"ER_ED_VISIT\", \"NUMDAYS\", \"VAX_MANU\"]\n",
    "y_col = \"HOSPITAL\"\n",
    "data, y = clean_data(pt_symp_vax, x_cols, y_col)"
   ]
  },
  {
   "cell_type": "markdown",
   "metadata": {},
   "source": [
    "#### View Possible Correlations between Factors"
   ]
  },
  {
   "cell_type": "code",
   "execution_count": 63,
   "metadata": {},
   "outputs": [
    {
     "data": {
      "image/png": "[encoded data removed]",
      "text/plain": [
       "<Figure size 432x288 with 2 Axes>"
      ]
     },
     "metadata": {
      "needs_background": "light"
     },
     "output_type": "display_data"
    }
   ],
   "source": [
    "# choose some possibly interesting factors \n",
    "data_vis = data[[\"AGE_YRS\", \"ER_ED_VISIT\", \"NUMDAYS\",\"SEX_M\", \"SEX_F\", \"SYMPTOM_Headache\", \n",
    "      \"SYMPTOM_Pyrexia\", \"SYMPTOM_Dyspnoea\"]].copy()\n",
    "data_vis[\"HOSPITAL\"] = pt_symp_vax[\"HOSPITAL\"]\n",
    "ax = sns.heatmap(data_vis.corr(), annot=True, fmt=\".2f\");\n",
    "t = ax.set_xticklabels(ax.get_xticklabels(), rotation=45, horizontalalignment='right')\n",
    "bottom, top = ax.get_ylim()\n",
    "ax.set_ylim(bottom + 0.5, top - 0.5)\n",
    "plt.savefig(\"plots/factor_correlation.png\", bbox_inches = \"tight\")\n",
    "plt.show()"
   ]
  },
  {
   "cell_type": "markdown",
   "metadata": {},
   "source": [
    "**Observations:**\n",
    "* slight correlation between hospital and years as well as hospital and ER visit\n",
    "* slight correlation between hospital and sex\n",
    "* slight correlation between age and sex\n",
    "* no real correlations for the single symptoms"
   ]
  },
  {
   "cell_type": "markdown",
   "metadata": {},
   "source": [
    "#### Data Modeling"
   ]
  },
  {
   "cell_type": "code",
   "execution_count": 64,
   "metadata": {},
   "outputs": [],
   "source": [
    "def train_test_classifier(X, y, model, model_name):\n",
    "    ''' Split dataset into train and test, \n",
    "    train the model, predict and print the accuracy score\n",
    "    \n",
    "    INPUT: \n",
    "    X - pandas dataframe dataset to predict from\n",
    "    y - pandas series labels\n",
    "    model - classification model (initialized)\n",
    "    model_name - name of model as string\n",
    "    '''\n",
    "    # Split data into train and test dataset\n",
    "    X_train, X_test, y_train, y_test = train_test_split(data, y, test_size = .35, random_state=42)\n",
    "    \n",
    "    # Fit model\n",
    "    model.fit(X_train, y_train)\n",
    "    length_y_test = len(y_test) #num in y_test\n",
    "    length_y_train = len(y_train) #num in y_train\n",
    "    \n",
    "    # Calculate score: use of balanced accuracy since only 22 % of the patients were hospitalized -> imbalanced classes\n",
    "    train_predict = model.predict(X_train)\n",
    "    train_score = balanced_accuracy_score(y_train, train_predict)\n",
    "    test_predict = model.predict(X_test)\n",
    "    test_score = balanced_accuracy_score(y_test, test_predict)\n",
    "    \n",
    "    print(\"Training Accuracy Score for prediction of {} with model {} was {:.2f} on {} values.\".format(y.name, model_name, train_score, length_y_train))\n",
    "    print(\"Test Accuracy Score for prediction of {} with model {} was {:.2f} on {} values.\".format(y.name, model_name, test_score, length_y_test))\n",
    "    \n",
    "    return train_score, test_score"
   ]
  },
  {
   "cell_type": "code",
   "execution_count": 65,
   "metadata": {},
   "outputs": [],
   "source": [
    "# create models\n",
    "models = []\n",
    "model_names = []\n",
    "\n",
    "models.append(LogisticRegression(random_state=0, solver='lbfgs', class_weight='balanced'))\n",
    "model_names.append(\"Logistic Regression\")\n",
    "models.append(RandomForestClassifier(max_depth=2, random_state=0, class_weight='balanced'))\n",
    "model_names.append(\"Random Forest Classifier\")\n",
    "models.append(GradientBoostingClassifier(n_estimators=100, learning_rate=1.0, \n",
    "                                      max_depth=1, random_state=0))\n",
    "model_names.append(\"Gradient Boosting Classifier\")"
   ]
  },
  {
   "cell_type": "code",
   "execution_count": 66,
   "metadata": {},
   "outputs": [
    {
     "name": "stdout",
     "output_type": "stream",
     "text": [
      "Training Accuracy Score for prediction of HOSPITAL with model Logistic Regression was 0.50 on 21910 values.\n",
      "Test Accuracy Score for prediction of HOSPITAL with model Logistic Regression was 0.50 on 11798 values.\n",
      "Training Accuracy Score for prediction of HOSPITAL with model Random Forest Classifier was 0.78 on 21910 values.\n",
      "Test Accuracy Score for prediction of HOSPITAL with model Random Forest Classifier was 0.78 on 11798 values.\n",
      "Training Accuracy Score for prediction of HOSPITAL with model Gradient Boosting Classifier was 0.78 on 21910 values.\n",
      "Test Accuracy Score for prediction of HOSPITAL with model Gradient Boosting Classifier was 0.77 on 11798 values.\n"
     ]
    }
   ],
   "source": [
    "results = []\n",
    "for i in range(len(models)):\n",
    "    # train models, train_score not needed for now because we see that there is no real overfitting\n",
    "    _, test_score = train_test_classifier(data, y, models[i], model_names[i])\n",
    "    results.append(test_score)"
   ]
  },
  {
   "cell_type": "code",
   "execution_count": 67,
   "metadata": {},
   "outputs": [
    {
     "data": {
      "image/png": "[encoded data removed]",
      "text/plain": [
       "<Figure size 432x288 with 1 Axes>"
      ]
     },
     "metadata": {
      "needs_background": "light"
     },
     "output_type": "display_data"
    }
   ],
   "source": [
    "fig, ax = plt.subplots()\n",
    "\n",
    "plt.plot(model_names, results, label=y.name)\n",
    "\n",
    "ax.set(xlabel='Prediction Variables', ylabel='Accuracy',\n",
    "       title='Prediction for Hospitalization')\n",
    "\n",
    "plt.legend() \n",
    "plt.savefig(\"plots/prediction_results.png\")\n",
    "fig.tight_layout()\n",
    "plt.show()"
   ]
  },
  {
   "cell_type": "markdown",
   "metadata": {},
   "source": [
    "**Results:** \n",
    "* no optimal prediction results\n",
    "* could improve through hyperparameter optimization, additional information in the datset (which would have to be cleaned first),  more data"
   ]
  },
  {
   "cell_type": "code",
   "execution_count": null,
   "metadata": {},
   "outputs": [],
   "source": []
  }
 ],
 "metadata": {
  "kernelspec": {
   "display_name": "Python 3",
   "language": "python",
   "name": "python3"
  },
  "language_info": {
   "codemirror_mode": {
    "name": "ipython",
    "version": 3
   },
   "file_extension": ".py",
   "mimetype": "text/x-python",
   "name": "python",
   "nbconvert_exporter": "python",
   "pygments_lexer": "ipython3",
   "version": "3.9.2"
  }
 },
 "nbformat": 4,
 "nbformat_minor": 2
}
